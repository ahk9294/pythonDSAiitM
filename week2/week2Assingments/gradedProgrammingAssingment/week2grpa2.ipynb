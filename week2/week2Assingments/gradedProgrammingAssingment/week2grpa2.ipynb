{
 "cells": [
  {
   "cell_type": "markdown",
   "metadata": {},
   "source": [
    "## Week2grpa\n",
    "\n",
    "Complete the python function findLargest(L) below, which accepts a list L of unique numbers, that are sorted(ascending) and rotated n times, where n is unknown, and returns the largest number in list L. Rotating list [2, 4, 5 ,7 ,8] one time gives us list [8 ,2 ,4 ,5 ,7], and rotating the second time gives list [7, 8, 2, 4, 5] and so on. Try to give an O(log n) solution. \n",
    "\n",
    "Hint: One of the O(log n) solutions can be implemented using binary search and using ‘first or last’ element to know, the direction of searching further.\n",
    "\n",
    "**Ex 1**\n",
    "Input :\n",
    "7 8 2 4 5 6\n",
    "Expected Output:\n",
    "8\n",
    "\n",
    "**Ex 2**\n",
    "Input :\n",
    "2 4 5 7 9\n",
    "\n",
    "Expected Output:\n",
    "9\n",
    "\n",
    "**Ex 3**\n",
    "Input:\n",
    "4\n",
    "\n",
    "Expected Output:\n",
    "4"
   ]
  },
  {
   "cell_type": "markdown",
   "metadata": {},
   "source": [
    "Initially i didnt understand the problem , Chatgpt explains it as follows:\n",
    "\n",
    " The problem is asking you to find the largest number in a list that is initially sorted in ascending order but has been rotated an unknown number of times. For example, given the sorted list [2, 4, 5, 7, 8], rotating it could result in [8, 2, 4, 5, 7], and further rotations would produce different arrangements.\n",
    "\n",
    "The goal is to create a function findLargest(L) that efficiently determines the largest number in this rotated list. The hint suggests using binary search and checking the 'first or last' element to know the direction of further searching.\n",
    "\n",
    "Here's a simplified step-by-step explanation:\n",
    "\n",
    "**Understand the Rotation:**\n",
    "\n",
    "The list is initially sorted but has been rotated.\n",
    "Rotating it involves moving some elements from one end to the other.\n",
    "\n",
    "**Binary Search Approach:**\n",
    "\n",
    "The hint suggests using binary search, which is an efficient algorithm for finding an element in a sorted list.\n",
    "Modify the binary search to handle the rotated nature of the list.\n",
    "\n",
    "**Direction of Search:**\n",
    "\n",
    "Check the 'first or last' element during each iteration to determine the direction of further searching.\n",
    "Adjust the binary search accordingly to consider the rotation.\n",
    "\n",
    "**Efficiency:**\n",
    "\n",
    "Aim for an O(log n) solution, which means the time complexity should be logarithmic with respect to the length of the list.\n",
    "\n",
    "\n",
    "**Here's a high-level idea of how the function might look like:**\n",
    "\n"
   ]
  },
  {
   "cell_type": "code",
   "execution_count": null,
   "metadata": {},
   "outputs": [],
   "source": [
    "def findLargest(L):\n",
    "    left, right = 0, len(L) - 1\n",
    "    \n",
    "    while left < right:\n",
    "        mid = (left + right) // 2\n",
    "        \n",
    "        # Check if the mid element is the largest\n",
    "        if L[mid] > L[mid + 1]:\n",
    "            return L[mid]\n",
    "        \n",
    "        # Adjust the search based on the rotation\n",
    "        if L[left] <= L[mid]:\n",
    "            # The left half is sorted\n",
    "            left = mid + 1\n",
    "        else:\n",
    "            # The right half is sorted\n",
    "            right = mid\n",
    "\n",
    "    # If the loop exits, the largest element is at the end\n",
    "    return L[left]\n"
   ]
  },
  {
   "cell_type": "markdown",
   "metadata": {},
   "source": [
    "The code passes all the test cases"
   ]
  }
 ],
 "metadata": {
  "language_info": {
   "name": "python"
  }
 },
 "nbformat": 4,
 "nbformat_minor": 2
}
