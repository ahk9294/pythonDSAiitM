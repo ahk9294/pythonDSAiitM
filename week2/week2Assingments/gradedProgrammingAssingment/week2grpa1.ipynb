{
 "cells": [
  {
   "cell_type": "markdown",
   "metadata": {},
   "source": [
    "## week2 Grpa1\n",
    "\n",
    "Write a Python function combinationSort(strList) that takes a list of unique strings strList as an argument, where each string is a combination of a letter from  a to z and a number from 0 to 99 ,the initial character in string being the letter. For example   a23 , d5 , q99 are some strings in this format.This function should sorts the list and return two lists (L1 ,L2 )in the order mentioned below.\n",
    "\n",
    "L1 : First list should contain all strings sorted ascending order with respect to first character only.All Strings with same initial characters should be same order as original list\n",
    "\n",
    "L2 : In List   L1 above sort the strings starting with same character, in descending order with respect to the number formed by the remaining characters.\"\n",
    "\n",
    "Example: Sample input 1:\n",
    "\n",
    " d34, g54, d12, b87, g1, c65, g40, g5, d77 \n",
    " \n",
    "Sample output 1:\n",
    "\n",
    " L1: b87, c65, d34, d12, d77, g54, g1, g40, g5 L2: b87, c65, d77, d34, d12, g54, g40, g5, g1\n"
   ]
  },
  {
   "cell_type": "code",
   "execution_count": 6,
   "metadata": {},
   "outputs": [
    {
     "data": {
      "text/plain": [
       "(['d34', 'd12', 'd87', 'g54'], ['d87', 'd34', 'd12', 'g54'])"
      ]
     },
     "execution_count": 6,
     "metadata": {},
     "output_type": "execute_result"
    }
   ],
   "source": [
    "def combinationSort(strList):\n",
    "\n",
    "    L1=sorted(strList, key=lambda x: x[0])\n",
    "    L11=sorted(L1,key=lambda x: (x[0],int(x[1:])),reverse=True )\n",
    "    L2=sorted(L11, key=lambda x: x[0])\n",
    "    return (L1,L2)\n",
    "\n",
    "combinationSort(['d34','g54','d12','d87'])\n"
   ]
  },
  {
   "cell_type": "markdown",
   "metadata": {},
   "source": [
    "Answer assisted by Chat gpt.\n",
    "\n",
    "Notice the concept of custom sorting keys "
   ]
  },
  {
   "cell_type": "markdown",
   "metadata": {},
   "source": []
  }
 ],
 "metadata": {
  "kernelspec": {
   "display_name": "Python 3",
   "language": "python",
   "name": "python3"
  },
  "language_info": {
   "codemirror_mode": {
    "name": "ipython",
    "version": 3
   },
   "file_extension": ".py",
   "mimetype": "text/x-python",
   "name": "python",
   "nbconvert_exporter": "python",
   "pygments_lexer": "ipython3",
   "version": "3.11.0"
  }
 },
 "nbformat": 4,
 "nbformat_minor": 2
}
