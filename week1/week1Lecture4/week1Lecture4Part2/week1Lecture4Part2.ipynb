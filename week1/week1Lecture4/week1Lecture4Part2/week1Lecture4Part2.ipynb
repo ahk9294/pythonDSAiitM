{
 "cells": [
  {
   "cell_type": "markdown",
   "metadata": {},
   "source": [
    "<center>\n",
    "\n",
    "## Week1 : Python recap\n",
    "### Lecture 4 : Python Recap - II\n",
    "\n",
    "#### Notes by Abhishek verma.\n",
    "#### Guided during the lecture by Prof. Madhvan Mukund | Chennai Mathematical Institute.\n",
    "\n",
    "## Part 2\n",
    "# Complex operations using prime checking function\n",
    "\n",
    "<hr>\n",
    "</center>\n",
    "\n",
    "In part 1 of lecture 4 we developed some python functions to check wether the given number is prime or not.\n",
    "\n",
    "In this lecture we will take the most efficient prime checking function from part 1 and do some further complex operations using that. \n",
    "\n",
    "These operations *were not possible* untill we had developed a proper prime checking function.\n",
    "\n",
    "So first lets select *the most efficient* prime function from part1. We know its the **prime4**.\n",
    "\n",
    "Let recode it with the name ***prime*** :"
   ]
  },
  {
   "cell_type": "code",
   "execution_count": 1,
   "metadata": {},
   "outputs": [],
   "source": [
    "import math\n",
    "def prime(n):\n",
    "    flag=True\n",
    "    if(n==0 or n==1 or n<0):\n",
    "        flag=False\n",
    "    else:\n",
    "        i=2\n",
    "        while(flag==True and i<=math.sqrt(n)):\n",
    "            if (n%i==0):\n",
    "                flag=False\n",
    "            else:\n",
    "                pass\n",
    "            i+=1\n",
    "    return(flag)"
   ]
  },
  {
   "cell_type": "markdown",
   "metadata": {},
   "source": [
    "Lets check it from front-end."
   ]
  },
  {
   "cell_type": "code",
   "execution_count": 11,
   "metadata": {},
   "outputs": [
    {
     "name": "stdout",
     "output_type": "stream",
     "text": [
      "True\n",
      "False\n",
      "False\n",
      "True\n",
      "False\n"
     ]
    }
   ],
   "source": [
    "print(prime(2))\n",
    "print(prime(-4))\n",
    "print(prime(15))\n",
    "print(prime(31))\n",
    "print(prime(256))"
   ]
  },
  {
   "cell_type": "markdown",
   "metadata": {},
   "source": [
    "it seems to work fine! Lets proceed further to perform some complex operations using this.\n",
    "\n",
    "Here is a list of *three tasks* that we would like to do :\n",
    "\n",
    "- ***Task 1 :*** To be able to get the list of all prime numbers between a given range of numbers.\n",
    "\n",
    "- ***Task 2 :*** To be able to get a list of any given number of prime numbers starting from *somewhere*.\n",
    "\n",
    "and finally, \n",
    "\n",
    "- ***Task 3 :*** To be able to analyse how prime numbers are distributed over the grid of integers by observing the differences between consecutive prime numbers.\n",
    "\n",
    "Lets start with *task 1 :*\n",
    "\n",
    "## *primesBetween()* - to get the list of all prime numbers between a given range of numbers.\n",
    "\n",
    "<hr>\n",
    "\n",
    "Suppose we want to get all the prime numbers between 100 and 1000. How do we do this operation using python?\n",
    "\n",
    "We will follow the following strategy :\n",
    "\n",
    "- First take the range between which we want to get all the prime numbers...\n",
    "\n",
    "- ..then we iterate over all the integers in this range and check if each of them is prime or not(*using our prime checking function*) .\n",
    "\n",
    "- As we find a prime number we will collect it inside a *python list*.\n",
    "\n",
    "- Finally the collected list is returned.\n",
    "\n",
    "Lets code this strategy and form a function ***primesBetween***"
   ]
  },
  {
   "cell_type": "code",
   "execution_count": 12,
   "metadata": {},
   "outputs": [],
   "source": [
    "def primesBetween(minRange,maxRange):\n",
    "    primeList=[] # form a list to collect prime numbers\n",
    "    for i in range(minRange,maxRange+1):\n",
    "        if(prime(i)==True): \n",
    "            # or simply if(prime(i)) :\n",
    "            # Note that here we used the prime checking function.\n",
    "            primeList.append(i)\n",
    "        else:\n",
    "            pass\n",
    "    return(primeList)"
   ]
  },
  {
   "cell_type": "markdown",
   "metadata": {},
   "source": [
    "Lets test this from front-end "
   ]
  },
  {
   "cell_type": "code",
   "execution_count": 15,
   "metadata": {},
   "outputs": [
    {
     "name": "stdout",
     "output_type": "stream",
     "text": [
      "[101, 103, 107, 109, 113, 127, 131, 137, 139, 149, 151, 157, 163, 167, 173, 179, 181, 191, 193, 197, 199, 211, 223, 227, 229, 233, 239, 241, 251, 257, 263, 269, 271, 277, 281, 283, 293, 307, 311, 313, 317, 331, 337, 347, 349, 353, 359, 367, 373, 379, 383, 389, 397, 401, 409, 419, 421, 431, 433, 439, 443, 449, 457, 461, 463, 467, 479, 487, 491, 499, 503, 509, 521, 523, 541, 547, 557, 563, 569, 571, 577, 587, 593, 599, 601, 607, 613, 617, 619, 631, 641, 643, 647, 653, 659, 661, 673, 677, 683, 691, 701, 709, 719, 727, 733, 739, 743, 751, 757, 761, 769, 773, 787, 797, 809, 811, 821, 823, 827, 829, 839, 853, 857, 859, 863, 877, 881, 883, 887, 907, 911, 919, 929, 937, 941, 947, 953, 967, 971, 977, 983, 991, 997]\n",
      "[2, 3, 5, 7]\n",
      "[2, 3, 5, 7, 11, 13]\n",
      "[29, 31, 37, 41, 43, 47, 53]\n"
     ]
    }
   ],
   "source": [
    "print(primesBetween(100,1000))\n",
    "print(primesBetween(2,10))\n",
    "print(primesBetween(-10,15))\n",
    "print(primesBetween(25,55))"
   ]
  },
  {
   "cell_type": "markdown",
   "metadata": {},
   "source": [
    "It works very fine.\n",
    "\n",
    "Now suppose along with the list of all prime numbers we also likes to output the *count* of them.?\n",
    "\n",
    "so the question is : How should we modify the code of *primesBetween* to get both *list of prime numbers* and the *count of the prime numbers* 'packed in one single structure'.\n",
    "\n",
    "It turns out the to get such style of ***multi-dimentional output*** we need to take the help of another very important *Data Structure* provided by Python called - ***Dictionaries***.\n",
    "\n",
    "<hr>\n",
    "\n",
    "<sup>[ Side Flash ] </sup>\n",
    "\n",
    " Lets talk about Dictionaries before proceeding.\n",
    "\n",
    " Dictionaries stores the data in (**key : value**) pairs.\n",
    "\n",
    " - **keys** must be named uder following rules :\n",
    "\n",
    "    - Any ***hashable datatype*** can be used as the dictionary key.<br><br>**What do we mean by *hashable datatypes*?**<br><br> A datatype is considered *hashable* if it has a fixed ***hash value*** that never changes during the datatype's life time. This makes possible to 'compare' these datatypes to test for equality. We will discuss the examples of the datatypes later but let us first talk about--> <br><br>**What do we mean by the *'hash values'* of a data type? how they look like ? and how they are calculated ?**<br><br> A *Hash function* is a mathematical function that takes an *input(or \"message\")* and return a ***fixed size string* of *bytes*** , which is typically a ***hash value*** of the input. We can even 'see' this hash value using ***hash()*** function in python.<br><br>**Hashable objects** in Python are those whoes *hash values never changes* during their lifetime and can be compared for equality.<br><br> Examples of *hashable objects*- <br><br> *strings*,*integers*,*floats*,*boolean*,*tuples ( only if their elements are hashable)* and *custom objects* with proper *_ _ hash _ _* implementation<br><br>Examples of *Non-hashable object* :<br><br>*Lists*,*tuples(with non hashable elements)*,*dictionaries*, *sets*, *custome objects* without proper *_ _ hash_ _* implementation<br><br>Whenever in doubt we can use this *hash()* functionto check if an object is hashable. If it's hashable it will return a value. otherwise it will raise a 'TypeError'.<br><br> \n",
    "    - Case sensitivity of the letters matters. As python itself is case sensitive.\n",
    "    - Avoid using any reserved words as name of keys like 'class', 'if' , 'else'..etc\n",
    "    - We can 'technically' use a ***whitespace*** in key name by enclosing them in quotes, its generally not recommended for readability.\n",
    "\n",
    " - **values** can store almost any data structures provided by python. Even things like functions and 'None' can also be stored as values.<br><br>Thus rules for *values* of a python dictionary is a bit flexible, one can use a wide range of datatypes and structures as values \n",
    "\n",
    " Let quickly review how do we work with Python dictionaries.\n",
    "\n",
    " **Creating dictionary**\n",
    "\n",
    " - Creating an empty dictionary :\n",
    "\n",
    "   ```python\n",
    "   my_dict={}\n",
    "   ``` \n",
    "\n",
    " - Creating dictionary with initial values :\n",
    " \n",
    "   ```python\n",
    "   my_dict={'name':'Ram', 'age':32, 'city' : 'Ayodhya'}\n",
    "   ```\n",
    " \n",
    " **Accessing and Modifying elements:**\n",
    "\n",
    " - Accessing values by keys:\n",
    "   \n",
    "   ```python\n",
    "   name=my_dict[name]\n",
    "   ```\n",
    "\n",
    " - Modifying Values:\n",
    "\n",
    "   ```python\n",
    "   my_dict['age']=34\n",
    "   ```\n",
    "\n",
    " - Adding new Key-Value Pairs:\n",
    "  \n",
    "   ```python\n",
    "   my_dict['gender']='Male'\n",
    "   ```\n",
    "\n",
    " - Deleting Key-Value Pairs:\n",
    "\n",
    "   ```python\n",
    "   del my_dict['age']\n",
    "   ```\n",
    "\n",
    " **Iterating through Dictionary**\n",
    "\n",
    " - Iterating Through Keys:\n",
    "\n",
    "   ```python\n",
    "   for key in my_dict:\n",
    "    print(key,my_dict[key])\n",
    "    ```\n",
    "\n",
    " - Iterating Thorugh Key-Value Pairs :\n",
    "\n",
    "   ```python\n",
    "   for key, value in my_dict.items():\n",
    "    print(key,value)\n",
    "   ```\n",
    "\n",
    "**Common Dictionary Methods** \n",
    "\n",
    " - Getting the 'list' of keys:\n",
    "   ```python\n",
    "    keyList=list(my_dict.keys())\n",
    "    ``` \n",
    "  \n",
    " - Getting the 'list' of values :\n",
    "\n",
    "   ```python\n",
    "   valueList=list(my_dict.values())\n",
    "   ```\n",
    "\n",
    " - Checking is a Key Exists :\n",
    "\n",
    "   ```python\n",
    "   if 'age' in my_dict:\n",
    "    print(\"Key 'age' exists.\")\n",
    "   ```\n",
    "\n",
    " - Clearing a Dictionary :\n",
    "\n",
    "   ```python\n",
    "   my_dict.clear()\n",
    "   ``` \n",
    "  \n",
    " - Copying a Dictionary :\n",
    "\n",
    "   ```python\n",
    "   new_dict=my_dict.copy()\n",
    "   ```\n",
    "\n",
    "<hr>\n",
    "\n",
    "After having a breif discussion about the Dictionary Data- Structure in python let us now modify ***primesBetween()*** to ***primesBetweenMod1()*** as follows :"
   ]
  },
  {
   "cell_type": "code",
   "execution_count": 18,
   "metadata": {},
   "outputs": [],
   "source": [
    "def primesBetweenMod1(minRange,maxRange):\n",
    "    output={'primeList': [], 'count': 0 }\n",
    "    for i in range(minRange,maxRange+1):\n",
    "        if(prime(i)):\n",
    "            output['primeList'].append(i)\n",
    "            output['count'] = output['count'] +1\n",
    "            # or we can use output['count'] +=1 by short-hard syntax\n",
    "        else:\n",
    "            pass\n",
    "    return(output)"
   ]
  },
  {
   "cell_type": "markdown",
   "metadata": {},
   "source": [
    "Let us test this from front-end."
   ]
  },
  {
   "cell_type": "code",
   "execution_count": 19,
   "metadata": {},
   "outputs": [
    {
     "name": "stdout",
     "output_type": "stream",
     "text": [
      "{'primeList': [101, 103, 107, 109, 113, 127, 131, 137, 139, 149, 151, 157, 163, 167, 173, 179, 181, 191, 193, 197, 199, 211, 223, 227, 229, 233, 239, 241, 251, 257, 263, 269, 271, 277, 281, 283, 293, 307, 311, 313, 317, 331, 337, 347, 349, 353, 359, 367, 373, 379, 383, 389, 397, 401, 409, 419, 421, 431, 433, 439, 443, 449, 457, 461, 463, 467, 479, 487, 491, 499, 503, 509, 521, 523, 541, 547, 557, 563, 569, 571, 577, 587, 593, 599, 601, 607, 613, 617, 619, 631, 641, 643, 647, 653, 659, 661, 673, 677, 683, 691, 701, 709, 719, 727, 733, 739, 743, 751, 757, 761, 769, 773, 787, 797, 809, 811, 821, 823, 827, 829, 839, 853, 857, 859, 863, 877, 881, 883, 887, 907, 911, 919, 929, 937, 941, 947, 953, 967, 971, 977, 983, 991, 997], 'count': 143}\n",
      "{'primeList': [2, 3, 5, 7], 'count': 4}\n",
      "{'primeList': [2, 3, 5, 7, 11, 13], 'count': 6}\n",
      "{'primeList': [29, 31, 37, 41, 43, 47, 53], 'count': 7}\n"
     ]
    }
   ],
   "source": [
    "print(primesBetweenMod1(100,1000))\n",
    "print(primesBetweenMod1(2,10))\n",
    "print(primesBetweenMod1(-10,15))\n",
    "print(primesBetweenMod1(25,55))"
   ]
  },
  {
   "cell_type": "markdown",
   "metadata": {},
   "source": [
    "Thus we noiced that how using the 'Dictionary' *data- structure* how we obtained a detailed output.\n",
    "\n",
    "With this our first task is completed.\n",
    "\n",
    "Lets now proceed to our **2nd task**.\n",
    "\n",
    "## *numberOfPrimesFrom()* - to get the list of given number of primes numbers starting from some number.\n",
    "\n",
    "Suppose we want to get 50 prime numbers after 100.\n",
    "\n",
    "Lets solve this by python using following strategy :\n",
    "\n",
    "- First take the *starting number* and the *number of primes that we want*...\n",
    "\n",
    "- ...then iterate through every integer starting from  the *starting number* (include the starting number if it is a prime), and keep collecting the primes in a list. Along with this we will keep a *counter*  to keep track of how many prime are already observed.\n",
    "\n",
    "- the above iteration will go on *indefinately* untill the counter becomes equal to the *number of primes that we want*. Once the point is reached the counter must stop.\n",
    "\n",
    " This type of behaviour is achived by 'while' loop instead of 'for' loop.\n",
    "\n",
    "- once the *counter* reaches the perticular point we will return the collected list of primes.\n",
    "\n",
    "Lets code the above startegy in a python function ***numberOfPrimesFrom()***:"
   ]
  },
  {
   "cell_type": "code",
   "execution_count": 21,
   "metadata": {},
   "outputs": [],
   "source": [
    "def numberOfPrimesFrom(startingNumber,numberOfPrimes):\n",
    "    primeList=[]\n",
    "    count=0\n",
    "    i=startingNumber\n",
    "  # The above 3 assingments can be written in one-line as:\n",
    "  # (pl,count,i) = ([],0,2), This is called 'Multiple assingment' using tuples desructuring.  \n",
    "    while(count<numberOfPrimes):\n",
    "        if(prime(i)):\n",
    "            count +=1\n",
    "            primeList.append(i)\n",
    "            # above two assingments can be written in one-line as:\n",
    "            # (count,primeList)=(count+1,primeList+[i]).\n",
    "        else:\n",
    "            pass\n",
    "        i+=1 #incrementation of iteration variable.\n",
    "    return (primeList)\n"
   ]
  },
  {
   "cell_type": "markdown",
   "metadata": {},
   "source": [
    "Lets test this from front-end."
   ]
  },
  {
   "cell_type": "code",
   "execution_count": 23,
   "metadata": {},
   "outputs": [
    {
     "name": "stdout",
     "output_type": "stream",
     "text": [
      "[3, 5, 7, 11, 13]\n",
      "[67, 71, 73, 79, 83, 89]\n",
      "[2, 3, 5, 7, 11]\n"
     ]
    }
   ],
   "source": [
    "print(numberOfPrimesFrom(3,5))\n",
    "print(numberOfPrimesFrom(64,6))\n",
    "print(numberOfPrimesFrom(-15,5))"
   ]
  },
  {
   "cell_type": "markdown",
   "metadata": {},
   "source": [
    "This seems to be working fine.\n",
    "\n",
    "With this our *2nd Task* is complete.\n",
    "\n",
    "Before proceeding towards the 3rd task let us talk about few things that we noticed during our 2nd task. These are :\n",
    "\n",
    "- **Multiple assingment technique**.\n",
    "    - The technique of multiple assingment is developed in programming languages so that multiple variables can be declared and initiallized in a 'single line'.<br><br>This makes the code clear and less cluttered.<br><br> In any programming language 'Multiple assingment' technique is acheived by an *act* called '***De-structuring***' of some datastructures like ***lists***,***arrays***,***tuples***.<br><br>This *De-structuring* is done *internally* by the compiler during compilation when we write an multiple assingment statement.<br><br>In Python , *multiple assingent* is done using -***List destructuring*** and -***Tuple destructuring***.\n",
    "\n",
    "- **Difference between 'for' and 'while' loop**.\n",
    "\n",
    "    - Notice that in situations when we don't know about how many times we have to iterate the loop, we must use the ***while loop*** there.\n",
    "\n",
    "    - ***for loop*** is used in situation where we know in advance about how many times we have to execute the loop.\n",
    "\n",
    "<hr>\n",
    "\n",
    "<sup>[ Prof. Madhvan ]</sup>\n",
    "\n",
    "So the whole purpose of the for loop is to be 'predictable'....I know i am going to run this loop this much number of times..\n",
    "\n",
    "On the other hand when I don't know how many times i'm going to execute the loop ....but the loop will terminate based on some condition that eventually becomes true then I use a **while loop**. (Like in the above Task 2.)\n",
    "\n",
    "One more thing we must be carefull about the **for loop** is that - The for loop iterates over a ***fixed list***... We must not be *changing this list* during the loop. --**This is a very bad and dangerous practice.**\n",
    "\n",
    "So while using a ***for loop*** don't change either the ***range list*** or the *iteration variable* ***i*** other wise the whole programme will become very ***un-predictable***. This is a bad practice in programming.\n",
    "<hr>\n",
    "\n",
    "So these were the things that we captured from *task2*.\n",
    "\n",
    "Let us now proceed towards our final  *Task 3*.\n",
    "\n",
    "## *primeDifference()* - To analyse how primes are distributed over the grid of integers. \n",
    "\n",
    "<hr>\n",
    "\n",
    "We will do this by 'capturing the *differences*' between the consicutive prime numbers.\n",
    "\n",
    "More specifically we want to see how many times a 'particular value of difference between the two consecutive prime numbers' is observed which are lying in some given range of integers.\n",
    "\n",
    "Lets do this using following strategy :\n",
    "\n",
    "- We will take a range of integers...\n",
    "\n",
    "- and then we will iterate over this range one by one to capture the first prime number...this number will be stored as '**firstPrime**'.\n",
    "\n",
    "- then we proceed the loop in the search of 2nd prime number, once found we will store it as '**secondPrime**'.\n",
    "\n",
    "- Once we get 2 consecutive primes , we will calculate the '**difference value**' between them and make an entry of it inside a dictionary with count value 1, so that if this same difference occures again we will increament its count by one.\n",
    "\n",
    "- after each new prime number is found we will update the 'firstprime' with the latest prime observed and then proceed to next iteration in the search of 'new secondPrime'.  \n",
    "\n",
    "- In the same way we will go on and updating  the dictionary with every new or old 'difference value' that we observed.\n",
    "\n",
    "- as the loop ends , our dictionary will be populated with the 'difference values' between two consecutive primes and their 'counts'.\n",
    "\n",
    "- at last we will return this populated dictionary.\n",
    "\n",
    "\n",
    "Lets code the above strategy in a python function ***primeDifference()***:"
   ]
  },
  {
   "cell_type": "code",
   "execution_count": 28,
   "metadata": {},
   "outputs": [],
   "source": [
    "def primeDifference(minRange , maxRange):\n",
    "    dc={} # 'dc' stands for Difference Container.\n",
    "    firstprime=0\n",
    "    secondprime=0\n",
    "    #finding the firstPrime\n",
    "    for i in range(minRange,maxRange+1):\n",
    "        if(prime(i)):\n",
    "            firstprime=i\n",
    "            break\n",
    "        else:\n",
    "            pass\n",
    "    if(firstprime==0):\n",
    "        return('no prime found in this range.')\n",
    "    elif(firstprime==maxRange):\n",
    "        return('only one prime found in this range i.e : ' + str(firstprime) +' , insufficient to create the distribution in this Range')\n",
    "    else:\n",
    "        # Finding the 'secondPrime'\n",
    "        for k in range(firstprime+1, maxRange+1):\n",
    "            if(prime(k)):\n",
    "                secondprime=k\n",
    "                #once 2nd prime is found we are ready to calculate the difference between them\n",
    "                difference=secondprime-firstprime\n",
    "                # this difference is to be update in the dictionary as follows.\n",
    "                if difference in dc.keys():\n",
    "                    dc[difference] = dc[difference]+1\n",
    "                else:\n",
    "                    dc[difference]=1\n",
    "                # now update the first prime to last observed prime.\n",
    "                firstprime= secondprime\n",
    "            else:\n",
    "                pass\n",
    "\n",
    "    return(dc)  "
   ]
  },
  {
   "cell_type": "markdown",
   "metadata": {},
   "source": [
    "Lets check this from *front-end*"
   ]
  },
  {
   "cell_type": "code",
   "execution_count": 29,
   "metadata": {},
   "outputs": [
    {
     "name": "stdout",
     "output_type": "stream",
     "text": [
      "{1: 1, 2: 6, 4: 5, 6: 2}\n",
      "only one prime found in this range i.e : 11 , insufficient to create the distribution in this Range\n",
      "{1: 1, 2: 8, 4: 7, 6: 7, 8: 1}\n"
     ]
    }
   ],
   "source": [
    "print(primeDifference(2,50))\n",
    "print(primeDifference(8,11))\n",
    "print(primeDifference(-15,100))"
   ]
  },
  {
   "cell_type": "markdown",
   "metadata": {},
   "source": [
    "The code is working fine.\n",
    "\n",
    "With this our 3rd task is complete.\n",
    "\n",
    "But before ending this lecture 4 let us let us talk about an interesting property of a prime number.\n",
    "\n",
    "<hr>\n",
    "\n",
    "<sup>[ Prof. Madhvan ]</sup>\n",
    "\n",
    "There are certain interesting properties of the prime number.\n",
    "\n",
    "- There infinitely many of them on the integer grid.\n",
    "\n",
    "    - There are many of easy proofs of this statement, I encourage you to look at these.\n",
    "\n",
    "- Our specific interest is on something called \"**Twin primes**\".\n",
    "\n",
    "    - **Twin primes** are thoes consecutive prime numbers which have  a difference of 'two' in them.\n",
    "      For example : 3 and 5 , 5 and 7 , 17 and 19 and so on...\n",
    "\n",
    "    - **Are there infinite twin primes?** \n",
    "    \n",
    "      It is noticed that as we go farther and farther on the integer grid we get less number of twin primes.\n",
    "\n",
    "      But they ceases to exist after certain limit is not still cleared.\n",
    "\n",
    "      This is something called the ***Twin prime conjecture***, which is still not solved in Mathematics.\n",
    "\n",
    "      We will not solve the 'Twin - prime conjecture' in python but we can atleast see that there are how many twin primes in a given range of integers?\n",
    "      (This is what we we did in ***primeDifference()*** function).\n",
    "\n",
    "<hr>\n",
    "\n",
    "Lets now proceed to next lecture."
   ]
  }
 ],
 "metadata": {
  "kernelspec": {
   "display_name": "Python 3",
   "language": "python",
   "name": "python3"
  },
  "language_info": {
   "codemirror_mode": {
    "name": "ipython",
    "version": 3
   },
   "file_extension": ".py",
   "mimetype": "text/x-python",
   "name": "python",
   "nbconvert_exporter": "python",
   "pygments_lexer": "ipython3",
   "version": "3.11.0"
  }
 },
 "nbformat": 4,
 "nbformat_minor": 2
}
