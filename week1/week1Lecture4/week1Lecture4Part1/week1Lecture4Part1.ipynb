{
 "cells": [
  {
   "cell_type": "markdown",
   "metadata": {},
   "source": [
    "<center>\n",
    "\n",
    "## Week1: Python recap \n",
    "### Lecture 4\n",
    "### Part 1\n",
    "\n",
    "#### Notes by Abhishek Verma.\n",
    "#### Guided during the lecture by Prof. Madhvan Mukund | Chennai Mathematical Institute\n",
    "\n",
    "# Python Recap -II \n",
    "## Part 1 - Computing Primes.\n",
    "\n",
    "</center>\n",
    "\n",
    "<hr>\n",
    "\n"
   ]
  },
  {
   "cell_type": "markdown",
   "metadata": {},
   "source": [
    "After having computed **gcd** in the last lecture let us work on computing primes.\n",
    "\n",
    "### What is a prime number ?\n",
    "\n",
    "Any number having **only and only** two factors, **not less than 2...not greater than 2**, are prime numbers.\n",
    "\n",
    "- These two factors are fixed :  the number 1 and the number itself.\n",
    "- Notice that 1 is not a prime as it have only **one factor** i.e the 1 itself.\n",
    "- The smallest prime is 2.\n",
    "\n",
    "In this *lecture 4* we are going to play with *prime numbers*. The lecture will be somewhat long so we have divided it into **two parts** :\n",
    "\n",
    "- **In Part-1** we will try to design some strategies in python to check the ***Primality*** of the given number. We will write several pieces of codes (functions) with different strategie to check wether a supplied number is prime or not. Along with this we will also discuss which among these function is the *most efficient* in terms of *time* and *computing resources they use*... \n",
    "\n",
    "Once we have the most efficient function to check for *primality* we will proceed to **Part-2** of this lecture.\n",
    "\n",
    "- **In Part-2** We will take the *most efficient* primality checking function developed in *Part-1* and use it in  solving more *complex* problems like :\n",
    "\n",
    "    - ..identifying the number of primes in a given range. Means adderssing questions like *There are how many primes between 1 and 100?* \n",
    "    - .. keeping track of the differences between two consecutive primes in some range.\n",
    "\n",
    "We will identify and 'embrace' the fact that these kind complex operations becomes lot easier once we first define a basic function to check wether a given number is prime or not.\n",
    "\n",
    "While doing the above journey we will be recaping some syntax and commonly used structures in python to *store* the data ( *Data Structures*  ).\n",
    "\n",
    "Few very popular *Data Structures* are like :\n",
    "\n",
    "- A **variable**, **list** and **Dictionary** .\n",
    "\n",
    "- there are few more.... like **Tuples** and **set** which we often use when some specific situation arise.\n",
    "\n",
    "Each of these structures differs in the ways they 'store' , 'modify' and 'access' the data (*numbers*, *strings*, *some datastructure itself !*).\n",
    "\n",
    "Lets began the **Part-1**...\n",
    "\n",
    "## Designing a function to check whether a given number is a prime or not.\n",
    "\n",
    "<hr>\n",
    "\n",
    "So First and foremost, let us now code some functions to check the ***Primality*** of the given number.\n",
    "\n",
    "## the prime1\n",
    "\n",
    "<hr>\n",
    "\n",
    "The most obvious strategy to check wether a given number is prime comes out of the *definition* of the prime number that we discussed above.\n",
    "\n",
    "Based on *the definition* of the prime number, we will design the **prime1** as follows :\n",
    "\n",
    "- first take a number as input.( Whose primality is to be checked)\n",
    "\n",
    "- make a list of all the factors of it. \n",
    "\n",
    "    - this task can be delegated to the another function that can be called 'factors'.\n",
    "    - the factor function will return a 'list' of all the factors of the input number.\n",
    "    \n",
    "- Once we have a list of factors then we can make another function **prime1** which takes the list returned by the **factors** function and then checks --> wether this list contains **two and only two factors** i.r [1, the input number]\n",
    "\n",
    "    - notice here that **prime1** depends on another function **factors**. Thus its efficiency is not 'independent', infact it depends upon the efficiency of **factors**.\n",
    "\n",
    "We can code the **prime1** as follows : "
   ]
  },
  {
   "cell_type": "code",
   "execution_count": 11,
   "metadata": {},
   "outputs": [],
   "source": [
    "# Defining the function 'factors' to return a the list of factors of the input numbers :\n",
    "\n",
    "def factors(n):\n",
    "    factorList=[]\n",
    "    for i in range(1, n+1) :\n",
    "        if (n%i==0) :\n",
    "            factorList.append(i)\n",
    "    return(factorList)\n",
    "\n",
    "# Defining prime1\n",
    "\n",
    "def prime1(n):\n",
    "    flag = (factors(n) ==[1,n]) ## flag is a boolean variable which stores 'true' or 'false' on the basis of expresion.\n",
    "    return (flag)"
   ]
  },
  {
   "cell_type": "markdown",
   "metadata": {},
   "source": [
    "now let us test the above code from some front-end."
   ]
  },
  {
   "cell_type": "code",
   "execution_count": 14,
   "metadata": {},
   "outputs": [
    {
     "name": "stdout",
     "output_type": "stream",
     "text": [
      "False\n",
      "False\n",
      "True\n",
      "False\n",
      "True\n",
      "False\n"
     ]
    }
   ],
   "source": [
    "print(prime1(0))\n",
    "print(prime1(1))\n",
    "print(prime1(2))\n",
    "print(prime1(15))\n",
    "print(prime1(53))\n",
    "print(prime1(-11))"
   ]
  },
  {
   "cell_type": "markdown",
   "metadata": {},
   "source": [
    "The code works very fine.\n",
    "\n",
    "The **prime1** was the most obvious and no doubt the most illustrative implimentaion of checking the primality... But its a **naive** approach in terms of efficient computer programming as it turns out that there are more efficient ways to check for primes.\n",
    "\n",
    "We must discuss some of the improvements that we can make in this code.\n",
    "\n",
    "We gradually try to improve the code, taking baby steps, with a motive to consume less time and resource of our computing machine.\n",
    "\n",
    "Lets design the **prime2**.\n",
    "\n",
    "## the prime2 | (Assumption handeling)\n",
    "\n",
    "<hr>\n",
    "\n",
    "In **prime1** we computed the list of factors of the given number n, and then checked wether the list equals [1, n].\n",
    "\n",
    "In **prime2** we will take a slightly different approach (can be called *Assumption handeling*) :\n",
    "\n",
    "- First we will assume that the given number 'n' is prime (even if its not).\n",
    "- Then we will check wether it have any factor between (**2** and **n-1**)....note that we are not interested in **1**... and we are not interested in **n**.\n",
    "- if we found any...we will say that our assumption in first step becomes False and the number is not prime.\n",
    "\n",
    "Lets code this strategy :"
   ]
  },
  {
   "cell_type": "code",
   "execution_count": 15,
   "metadata": {},
   "outputs": [],
   "source": [
    "def prime2(n) :\n",
    "    flag= True              # assumed that the n is prime.\n",
    "    for i in range(2,n) :\n",
    "        if (n%i == 0) :\n",
    "            flag= False     # if factor found, we say that our assumption becomes False.\n",
    "    return(flag)"
   ]
  },
  {
   "cell_type": "markdown",
   "metadata": {},
   "source": [
    "Lets test this **prime2** definition of the prime numbers with some input from front-end."
   ]
  },
  {
   "cell_type": "code",
   "execution_count": 16,
   "metadata": {},
   "outputs": [
    {
     "name": "stdout",
     "output_type": "stream",
     "text": [
      "True\n",
      "True\n",
      "True\n",
      "False\n",
      "True\n",
      "True\n"
     ]
    }
   ],
   "source": [
    "print(prime2(0))\n",
    "print(prime2(1))\n",
    "print(prime2(2))\n",
    "print(prime2(15))\n",
    "print(prime2(53))\n",
    "print(prime2(-11))"
   ]
  },
  {
   "cell_type": "markdown",
   "metadata": {},
   "source": [
    "Notice quickly the first 2 results and the last one are not correct as 0 , 1 and -11 are infact not prime. And also These results were correct in case of **prime1**.\n",
    "\n",
    "Thus **prime2** is not working for the special cases like 0 , 1 , -11. Notice that it works for 2, and also for any integer greater than 2.\n",
    "\n",
    "## What goes wrong with prime2 in case of 0 , 1 and -11 ?\n",
    "\n",
    "<hr>\n",
    "\n",
    "Let us disscuss the working of **prime2** for 0 , 1 , -11 and 2  to see what goes wrong with 0 , 1 , -11 and what goes right with 2.\n",
    "\n",
    "Most of the **prime2**'s logic depends upon the **for** loop which is responsible for checking the factors of 'n'. This **for loop** takes the value of *iteration variable*  **i** from the *list like output* generated by the **range()** function.\n",
    "\n",
    "To understand why **prime2** produces wrong results for 0 , 1 and -11 we must know how the **range()** function works.\n",
    "\n",
    "The general syntax of range function is **range( start , stop , step )**.\n",
    " \n",
    "It produces a *list like output* containing an *ordered sequence* of 'integers' from **start** to **stop** (but excluding the **stop**) taking the jumps of **steps** (which can be a positive or negative value). Python only allows all of these values to be *integers*.\n",
    "\n",
    "Following examples illustrates the working of range function :"
   ]
  },
  {
   "cell_type": "code",
   "execution_count": 17,
   "metadata": {},
   "outputs": [
    {
     "name": "stdout",
     "output_type": "stream",
     "text": [
      "range(0, 10, 2)\n",
      "[0, 2, 4, 6, 8]\n",
      "range(5, 10)\n",
      "[5, 6, 7, 8, 9]\n",
      "[5, 3, 1, -1, -3, -5, -7, -9]\n",
      "[]\n",
      "[]\n"
     ]
    }
   ],
   "source": [
    "print(range(0,10,2))\n",
    "print(list(range(0,10,2)))\n",
    "\n",
    "print(range(5,10,1))\n",
    "print(list(range(5,10,1)))\n",
    "\n",
    "print(list(range(5,-10,-2)))\n",
    "\n",
    "print(list(range(1,10,-2)))\n",
    "print(list(range(15,3,2)))\n"
   ]
  },
  {
   "cell_type": "markdown",
   "metadata": {},
   "source": [
    "Following things can be noticed form the above examples :\n",
    "\n",
    "- The output of range is not *immidiatly* a list. But it explicitly has to be converted into list.\n",
    "\n",
    "    - The **range()** function in Python doesnot directly produces the list. Instead it generates a special type of sequence called the- ***range object***.\n",
    "\n",
    "    - these ***range objects*** are *memory efficient* as they generates the values *on-the-fly* whenever needed rather than storing them in memory.\n",
    "\n",
    "    - One of the best thing about these range objects is - that they are *iterable*, thus could be used with loops.\n",
    "\n",
    "    - when we try to print these ***range objects*** directly, they are just printed as *range objects*. To 'see' them as list we have to convert them to list.\n",
    "        \n",
    "- The output of the range ends *one value before* the **stop**.\n",
    "\n",
    "    -The ***range objects***,  *excludes* the ending point **stop** but *includes* the starting point **start**.\n",
    "\n",
    "    - To end the range at our desired value, the **stoping** point is to be fixed at one value greater than the desired value.\n",
    "\n",
    "- If there is any logical error , like that in the last two examples, the range object outputs the *empty list* - [ ].\n",
    "\n",
    "    - It is intresting to see that Python doesnot *complains* or gives out any **eroor**\n",
    "    when we make a logical error inside the range function. \n",
    "    \n",
    "    Instead it just gives out an **empty list.**\n",
    "\n",
    "\n",
    "But does Python never throws out error?\n",
    "\n",
    "It turns out that there are situations when python complains , look the following examples :\n"
   ]
  },
  {
   "cell_type": "code",
   "execution_count": 18,
   "metadata": {},
   "outputs": [
    {
     "ename": "TypeError",
     "evalue": "'float' object cannot be interpreted as an integer",
     "output_type": "error",
     "traceback": [
      "\u001b[1;31m---------------------------------------------------------------------------\u001b[0m",
      "\u001b[1;31mTypeError\u001b[0m                                 Traceback (most recent call last)",
      "Cell \u001b[1;32mIn[18], line 1\u001b[0m\n\u001b[1;32m----> 1\u001b[0m \u001b[38;5;28mprint\u001b[39m(\u001b[38;5;28mlist\u001b[39m(\u001b[38;5;28;43mrange\u001b[39;49m\u001b[43m(\u001b[49m\u001b[38;5;241;43m1\u001b[39;49m\u001b[43m,\u001b[49m\u001b[38;5;241;43m10\u001b[39;49m\u001b[43m,\u001b[49m\u001b[38;5;241;43m1.5\u001b[39;49m\u001b[43m)\u001b[49m))\n",
      "\u001b[1;31mTypeError\u001b[0m: 'float' object cannot be interpreted as an integer"
     ]
    }
   ],
   "source": [
    "print(list(range(1,10,1.5)))"
   ]
  },
  {
   "cell_type": "code",
   "execution_count": null,
   "metadata": {},
   "outputs": [
    {
     "ename": "ValueError",
     "evalue": "range() arg 3 must not be zero",
     "output_type": "error",
     "traceback": [
      "\u001b[1;31m---------------------------------------------------------------------------\u001b[0m",
      "\u001b[1;31mValueError\u001b[0m                                Traceback (most recent call last)",
      "Cell \u001b[1;32mIn[36], line 1\u001b[0m\n\u001b[1;32m----> 1\u001b[0m \u001b[38;5;28mprint\u001b[39m(\u001b[38;5;28mlist\u001b[39m(\u001b[38;5;28mlist\u001b[39m(\u001b[38;5;28;43mrange\u001b[39;49m\u001b[43m(\u001b[49m\u001b[38;5;241;43m1\u001b[39;49m\u001b[43m,\u001b[49m\u001b[38;5;241;43m10\u001b[39;49m\u001b[43m,\u001b[49m\u001b[38;5;241;43m0\u001b[39;49m\u001b[43m)\u001b[49m)))\n",
      "\u001b[1;31mValueError\u001b[0m: range() arg 3 must not be zero"
     ]
    }
   ],
   "source": [
    "print(list(range(1,10,0)))"
   ]
  },
  {
   "cell_type": "markdown",
   "metadata": {},
   "source": [
    "Thus in certain cases Python does complains!!\n",
    "\n",
    "Letus now see some **short-hand** notations of **range()** function :"
   ]
  },
  {
   "cell_type": "code",
   "execution_count": null,
   "metadata": {},
   "outputs": [
    {
     "name": "stdout",
     "output_type": "stream",
     "text": [
      "[0, 1, 2, 3, 4, 5, 6, 7, 8, 9]\n",
      "[]\n",
      "[5, 6, 7, 8, 9]\n"
     ]
    }
   ],
   "source": [
    "#Eg 1\n",
    "print(list(range(10)))\n",
    "print(list(range(-11)))\n",
    "\n",
    "#Eg2\n",
    "print(list(range(5,10)))"
   ]
  },
  {
   "cell_type": "markdown",
   "metadata": {},
   "source": [
    "above examples shows the most commonly used **short-hand** notations of the range function.\n",
    "\n",
    "- Eg.1 shows if we put only one integer as argument of the **range()** function, python by itself assumes it to be the **stop** and set the **start** = **0** and **step** = **1** , by  default .\n",
    "\n",
    "    -  Notice that in case of **range(-11)** the output is *empty-list* , **[]** .\n",
    "\n",
    "    - It is because while execution of  **range(-11)** , Python sets **stop** to **-11** , **start** to **0** and **step** to **1**  . \n",
    "\n",
    "    - Notice that one cannot reach **-10** from **0** by *adding* **1**, Thus its a logical error and under this situation **range()** function returns an *empty list* **[]** . \n",
    "    \n",
    "        - Thus due to the default behaviour of the **range()** function ***the short hand notation with negative input ended up producing a logical error***.\n",
    "\n",
    "- Eg.2 shows if we put two integers as argument, python assumes the first to be **start** and 2nd to be **stop** and set the **step** = **1**.\n",
    "\n",
    "\n",
    "Now after disscussing the behaviour of **range()** function in great details, let us come back to our orignal questions.\n",
    "\n",
    "    - What goes wrong with prime2(0), prime2(1) and prime2(-11)?\n",
    "\n",
    "    - What goes right with prime2(2) ? \n",
    "\n",
    "|case|description|\n",
    "|:--|:-|\n",
    "| **prime2(0)** | When n=0 , the **range(2,0)** will return the 'empty list' - **[ ]**<br> <br>Thus The for loop does not exicute even once and flag doesnot updates to **False** and prime2(0) returns **True**. Which is **not the desired result**.|\n",
    "| **prime2(1)** | When n=1 , the **range(2,1)** will return the 'empty list'.<br> <br> Thus for the same reason as above, the prime2(1) will not update and return **True**, again which is **not the desired result.**|\n",
    "| **prime(-11)**| For n= -11, the range function will again output a empty list and the flag cannot be updated to **False**.|\n",
    "\n",
    " and   - What goes right with prime2(2) ?\n",
    " \n",
    "\n",
    "|case|description|\n",
    "|:--|:-|\n",
    "| **prime2(2)** | When n=2 , the **range(2,2)** will again return the 'empty list'.<br><br> It is because the **start** and **stop** are same and **step** by default is **1**, we know in **range()** function the **stop** value is not included and the sequence ends at one value less than **stop**, thus the **range(2,2)** will have a logical error and it gives out and **empty list** as the output.<br><br> If **range(2,2)** gives the empty list, the corresponding **for** loop doesnot exicute even once and the **flag** variable will not be able to update to **False** and remains **True** ---- **which is desired in case of 2** as 2 is infact a prime number. |\n",
    "\n",
    "Thus what goes wrong for **0** , **1** and **-11** in case of **prime2()**, goes right in for **2**.\n",
    "\n",
    "Now the question is how to correct this error ?\n",
    "\n",
    "## Correcting prime2() for 0 , 1 and -11 ---> prime2mod1()\n",
    "\n",
    "<hr>\n",
    "\n",
    "We know that prime2 will produce correct result for everything except 0 , 1 and -ve intergers. Thus we can take the help of conditionals.\n",
    "\n",
    "Lets us modify the prime2() to prime2mod1() as follows  :"
   ]
  },
  {
   "cell_type": "code",
   "execution_count": 1,
   "metadata": {},
   "outputs": [],
   "source": [
    "def prime2mod1(n):\n",
    "    flag=True\n",
    "    if (n==0 or n==1 or n<0 ) :\n",
    "        flag = False\n",
    "    else :\n",
    "        for i in range(2,n) :\n",
    "            if (n%i ==0):\n",
    "                flag = False\n",
    "    return flag"
   ]
  },
  {
   "cell_type": "markdown",
   "metadata": {},
   "source": [
    "Lets now check this from from front-end."
   ]
  },
  {
   "cell_type": "code",
   "execution_count": null,
   "metadata": {},
   "outputs": [
    {
     "name": "stdout",
     "output_type": "stream",
     "text": [
      "False\n",
      "False\n",
      "True\n",
      "False\n",
      "True\n",
      "False\n"
     ]
    }
   ],
   "source": [
    "print(prime2mod1(0))\n",
    "print(prime2mod1(1))\n",
    "print(prime2mod1(2))\n",
    "print(prime2mod1(15))\n",
    "print(prime2mod1(53))\n",
    "print(prime2mod1(-11))"
   ]
  },
  {
   "cell_type": "markdown",
   "metadata": {},
   "source": [
    "Now the results came to be correct.\n",
    "\n",
    "Even after modifying the **prime2**, it turns out it is not the best approach to check for prime number as non-integer inputs in the **prime2mod1()** still gives the unintended results.\n",
    "\n",
    "For example :"
   ]
  },
  {
   "cell_type": "code",
   "execution_count": null,
   "metadata": {},
   "outputs": [
    {
     "ename": "TypeError",
     "evalue": "'float' object cannot be interpreted as an integer",
     "output_type": "error",
     "traceback": [
      "\u001b[1;31m---------------------------------------------------------------------------\u001b[0m",
      "\u001b[1;31mTypeError\u001b[0m                                 Traceback (most recent call last)",
      "Cell \u001b[1;32mIn[12], line 1\u001b[0m\n\u001b[1;32m----> 1\u001b[0m \u001b[43mprime2mod1\u001b[49m\u001b[43m(\u001b[49m\u001b[38;5;241;43m1.5\u001b[39;49m\u001b[43m)\u001b[49m\n",
      "Cell \u001b[1;32mIn[1], line 6\u001b[0m, in \u001b[0;36mprime2mod1\u001b[1;34m(n)\u001b[0m\n\u001b[0;32m      4\u001b[0m     flag \u001b[38;5;241m=\u001b[39m \u001b[38;5;28;01mFalse\u001b[39;00m\n\u001b[0;32m      5\u001b[0m \u001b[38;5;28;01melse\u001b[39;00m :\n\u001b[1;32m----> 6\u001b[0m     \u001b[38;5;28;01mfor\u001b[39;00m i \u001b[38;5;129;01min\u001b[39;00m \u001b[38;5;28mrange\u001b[39m(\u001b[38;5;241m2\u001b[39m,n) :\n\u001b[0;32m      7\u001b[0m         \u001b[38;5;28;01mif\u001b[39;00m (n\u001b[38;5;241m%\u001b[39mi \u001b[38;5;241m==\u001b[39m\u001b[38;5;241m0\u001b[39m):\n\u001b[0;32m      8\u001b[0m             flag \u001b[38;5;241m=\u001b[39m \u001b[38;5;28;01mFalse\u001b[39;00m\n",
      "\u001b[1;31mTypeError\u001b[0m: 'float' object cannot be interpreted as an integer"
     ]
    }
   ],
   "source": [
    "prime2mod1(1.5)"
   ]
  },
  {
   "cell_type": "markdown",
   "metadata": {},
   "source": [
    "Thus **prime2()** still have a lot of scope for modification. \n",
    "\n",
    "Lets for now, just ignore the case of non-integers and direct our focus towards the efficiency of **prime2()**.\n",
    "\n",
    "## Is prime2() efficient than prime1() ?\n",
    "\n",
    "<hr>\n",
    "\n",
    "Even though **prime2()** doesnot contains the two boundary iterations( **1** and **n** ) which were present in **prime1()**, it turns out that in the worst inputs (like the prime numbers) the **for loop** inside **prime2()** takes the time proportional to the number itself. \n",
    "\n",
    "So even if **prime2** is *iterated 2 times less* the *time taken  is still proportional to the ***size*** of input*.\n",
    "\n",
    "This means that the performance of the code degrades as the *input size* scales, this is not considered good in the world of programming.\n",
    "\n",
    "\n",
    "So can we further modify **prime2()** to improve the its efficiency?\n",
    "\n",
    "Its turns out yes. Lets modify **prime2()**, with aim to improove its performance. \n",
    "\n",
    "Lets form **prime3()**.\n",
    "\n",
    "## the prime3 | controlling the flow of execution inside the loop.\n",
    "\n",
    "<hr>\n",
    "\n",
    "Notice that in the code of **prime2**, the for loop checks for **all the factors** in the range **2** to **n-1**, even if it finds a factor much earlier in this range the code will still exicute till **n-1**. It turns out this behaviour is not required in the given problem of 'checking the prime'. \n",
    "\n",
    "A number ceases to be prime as soon as we find any factor of it between the range *2 to n-1*. So we *need some mechanism to end the loop* as soon as we find the very first factor. This is something like to *control the flow of execution* of code inside the loop. \n",
    "\n",
    "This functionality of **controlling the *loop flow* in between** can be achived in two ways :\n",
    "\n",
    "- using statements like **break** , **continue** , **pass**.\n",
    "- using the **while loop**.\n",
    "\n",
    "Before designing the **prime3** lets quickly describe the behaviour of **break**, **continue** and **pass**.\n",
    "\n",
    "|statement|behaviour|\n",
    "|:-:|:-|\n",
    "|**break**| the 'break' statement is used to terminate the loop completely. <br><br> All  iterations after the 'break' statement will stop and the execution comes out of the loop.|\n",
    "|**continue**| the 'continue' statement is used to skip the rest of the code inside the loop below the 'continue' statement, but only for the current iteration. <br><br> Note that in contrast to 'break' statement , the 'continue' does not brings us out of the loop , instead it *skips* the current iteration from a perticular point and takes the execution head to the next iteration.|\n",
    "|**pass**| the 'pass' satement serves as a *placeholder* in case of empty loop.<br><br> Sometimes when some block remains empty inside the code where no action required or necessary  this 'pass' statement is syntactically required as a place holder.|\n",
    "\n",
    "\n",
    "Let us now design the **prime3** :\n",
    "\n",
    "- We will take the logic used in **prime2mod1()**...\n",
    "- ...and **break** the loop as the 'flag' becomes true very first time (in other words as we find the first factor). \n",
    "\n",
    "Lets code the above design :"
   ]
  },
  {
   "cell_type": "code",
   "execution_count": 4,
   "metadata": {},
   "outputs": [],
   "source": [
    "def prime3(n):\n",
    "    flag= True\n",
    "    if(n==0 or n==1 or n<0):\n",
    "        flag=False\n",
    "    else:\n",
    "        for i in range(2,n):\n",
    "            if(n%i ==0 ):\n",
    "                flag=False\n",
    "                break ## abort the loop as we find fist factor\n",
    "            else:\n",
    "                pass ## notice the we need to do nothing over here.\n",
    "    return(flag)"
   ]
  },
  {
   "cell_type": "markdown",
   "metadata": {},
   "source": [
    "Let us test the **prime3** from front-end. "
   ]
  },
  {
   "cell_type": "code",
   "execution_count": 6,
   "metadata": {},
   "outputs": [
    {
     "name": "stdout",
     "output_type": "stream",
     "text": [
      "False\n",
      "False\n",
      "True\n",
      "False\n",
      "True\n",
      "False\n",
      "False\n"
     ]
    }
   ],
   "source": [
    "print(prime3(0))\n",
    "print(prime3(1))\n",
    "print(prime3(2))\n",
    "print(prime3(15))\n",
    "print(prime3(53))\n",
    "print(prime3(-11))\n",
    "print(prime3(-12))"
   ]
  },
  {
   "cell_type": "markdown",
   "metadata": {},
   "source": [
    "<hr>\n",
    "\n",
    "<sup>[ Prof. Madhvan ]</sup>\n",
    "\n",
    "    So ofcourse... 'breaking' out of the loop.... is sometimes unavoidable, but very often it leads to confusion about what actually happening in the code so you should use 'breaks' with caution.\n",
    "    \n",
    "    Its nicer that this kind of loop controlling is done by the 'while' loop.\n",
    "\n",
    "<hr>\n",
    "\n",
    "So based on above suggestion let us modify the **prime3()** ------> to **prime3mod1()**, and implement the loop controlling using the while loop.\n",
    "\n",
    "Lets try to code **prime3mod1()**"
   ]
  },
  {
   "cell_type": "code",
   "execution_count": 8,
   "metadata": {},
   "outputs": [],
   "source": [
    "def prime3mod1(n):\n",
    "    flag = True\n",
    "    if(n==0 or n==1 or n<0):\n",
    "        flag=False\n",
    "    else :\n",
    "        i = 2\n",
    "        while( flag==True and i<n) : # This statement can also be written in short-hand as \"while(flag and i<n)\"....\n",
    "            if(n%i==0):\n",
    "                flag=False\n",
    "            else:\n",
    "                pass\n",
    "            i=i+1\n",
    "    return(flag)\n",
    "# Notice that in this code break is not used any where."
   ]
  },
  {
   "cell_type": "markdown",
   "metadata": {},
   "source": [
    "Notice in above code no 'break' statement is used and the loop flow is controlled using only the *while loop* and the *flag* variable itself.\n",
    "\n",
    "<hr>\n",
    "\n",
    "<sup>[ Prof. Madhvan ] </sup>\n",
    "\n",
    "    In Python , we must work with 'while loop' very carefully , because it has a potential of becoming an unending infinite loop if we do not modify the iteration variable i within the loop body at the end of each iteration (before the next iteration)...\n",
    "    \n",
    "    In case of 'for loop' this job of incrementing the iteration variable was handeled somehow internally by the range() function but in case of 'while loop' its 'our' job to modify the interation variable i in every iteration so that the loop can gradually 'moves' towards the end.\n",
    "\n",
    "<hr>\n",
    "\n",
    "Let us test the above modified **prime3** code from front-end."
   ]
  },
  {
   "cell_type": "code",
   "execution_count": 9,
   "metadata": {},
   "outputs": [
    {
     "name": "stdout",
     "output_type": "stream",
     "text": [
      "False\n",
      "False\n",
      "True\n",
      "False\n",
      "True\n",
      "False\n",
      "False\n"
     ]
    }
   ],
   "source": [
    "print(prime3mod1(0))\n",
    "print(prime3mod1(1))\n",
    "print(prime3mod1(2))\n",
    "print(prime3mod1(15))\n",
    "print(prime3mod1(53))\n",
    "print(prime3mod1(-11))\n",
    "print(prime3mod1(-12))"
   ]
  },
  {
   "cell_type": "markdown",
   "metadata": {},
   "source": [
    "The code works fine. \n",
    "\n",
    "Let us now talk about the **efficiency of the prime3mod1**.\n",
    "\n",
    "No doubt it was a clever move, and in cases like where our input intergers is like 1000000.....**prime3mod1()** gives a *huge advantage* over **prime3** as the **flag** will become false in the very first iteration as its divisible by 2 and the loop will not execute 1000000 times.\n",
    "\n",
    "This will definately saves lots of time and computing.\n",
    "\n",
    "But what about 1000003? in this case the loop will execute 1000001 times and the modified **prime3mod1()** will give no advantage. And the time taken by the algorithm again becomes proportional to the ***size*** of the input.\n",
    "\n",
    "Thus **prime3mod1()** is not a *stable solution* of the efficiency problem... because it works good only in selective handful of cases and does not *guarentees* the time and resource efficiency for any input case.\n",
    "\n",
    "So let us try to do final improvement to our strategy of checking the primality of a given number.\n",
    "\n",
    "Lets design the **prime4** out of **prime3**.\n",
    "\n",
    "## the prime4() | improving speed with mathematics.\n",
    "\n",
    "<hr>\n",
    "\n",
    "Sometimes the facts which originates from *pure mathematics* help to improve the *performance* of our code. Let us illustrate this fact in our current strategy of checking the primality.\n",
    "\n",
    "From the mathematics we know a rule that : ***factors* of any number always *occurs in pairs***.\n",
    "for e.g."
   ]
  },
  {
   "cell_type": "code",
   "execution_count": 18,
   "metadata": {},
   "outputs": [
    {
     "name": "stdout",
     "output_type": "stream",
     "text": [
      "[1, 2, 4, 8]\n",
      "[1, 3, 9, 27]\n",
      "[1, 2, 41, 82]\n",
      "[1, 89]\n",
      "[1, 2, 4, 7, 8, 14, 28, 56]\n"
     ]
    }
   ],
   "source": [
    "print(factors(8))   ## to run this code run the cell containing the factor function\n",
    "print(factors(27))\n",
    "print(factors(82))\n",
    "print(factors(89))\n",
    "print(factors(56))"
   ]
  },
  {
   "cell_type": "markdown",
   "metadata": {},
   "source": [
    "the rule seems to be correct.\n",
    "\n",
    "The *first* factor of the list is 'paired' with *last*.\n",
    "\n",
    "The *second* factor of the list is 'paired' with *second last* and so on....\n",
    "\n",
    "But if we check the factors of any ***perfect square*** number the above rule *seems to be violated*.\n",
    "\n",
    "for e.g."
   ]
  },
  {
   "cell_type": "code",
   "execution_count": 19,
   "metadata": {},
   "outputs": [
    {
     "name": "stdout",
     "output_type": "stream",
     "text": [
      "[1, 2, 4]\n",
      "[1, 3, 9]\n",
      "[1, 2, 4, 8, 16, 32, 64, 128, 256]\n"
     ]
    }
   ],
   "source": [
    "print(factors(4))\n",
    "print(factors(9))\n",
    "print(factors(256))"
   ]
  },
  {
   "cell_type": "markdown",
   "metadata": {},
   "source": [
    "It can be noticed that in case of *perfect square numbers* there is an \"extra factor\" (- ***the square root of the number***) in the list which remains unpaired.\n",
    "\n",
    "Actually this may seems to be the violation of the rule... but it is *actually not*!\n",
    "\n",
    "The rule that ***Factors of any numbers always occurs in pairs*** will hold true for a *perfect square number*...If we include the fact that the ***\"square-root\"* of the number is the pair of *\"itself\"***\n",
    "\n",
    "Thus the fact that ***Factors of any number always occurs in pair*** holds true.\n",
    "\n",
    "    - How this fact help in improving the performance of our prime3 code?\n",
    "\n",
    "It turns out that this fact can drastically improve the *performance of the **prime3()** code*.\n",
    "\n",
    "If we carefully look the list of factors of any number we can conclude that the list is ***symmetrical about the square root of that number*** wether or not the square root in present in the list.\n",
    "\n",
    "---> Thus ***it is sufficient to execute the factor checking loop in prime3() only upto the square-root of that number***. It is meaningless to execute it to till the end i.e  *n-1*...\n",
    "\n",
    "...Because for every factor in the range **[1 to sqrt(n)]** there will be a *mirror factor* in the range **[sqrt(n) to n]**.(*Try to verify this yourself*)\n",
    "\n",
    "Thus it is sufficient to execute the loop and check the factors in the first half only.(i.e upto **sqrt(n)**). If we won't find any factor in this range there will be no factor in the 2nd Half too.\n",
    "\n",
    "Let us now code the above idea to design **prime4**:"
   ]
  },
  {
   "cell_type": "code",
   "execution_count": 21,
   "metadata": {},
   "outputs": [],
   "source": [
    "import math   # contain math function sqrt()\n",
    "def prime4(n):\n",
    "    flag=True\n",
    "    if (n==0 or n==1 or n<0):\n",
    "        flag=False\n",
    "    else:\n",
    "        i=2\n",
    "        while(flag==True and i<=math.sqrt(n)):   # loop is only executed uptill squareroot of n\n",
    "            if (n%i==0):\n",
    "                flag=False\n",
    "            else: \n",
    "                pass\n",
    "            i +=1   # Short-hand for i=i+1\n",
    "\n",
    "    return(flag)"
   ]
  },
  {
   "cell_type": "markdown",
   "metadata": {},
   "source": [
    "lets check this from front-end."
   ]
  },
  {
   "cell_type": "code",
   "execution_count": 23,
   "metadata": {},
   "outputs": [
    {
     "name": "stdout",
     "output_type": "stream",
     "text": [
      "True\n",
      "False\n",
      "False\n",
      "True\n"
     ]
    }
   ],
   "source": [
    "print(prime4(2))\n",
    "print(prime4(24))\n",
    "print(prime4(33))\n",
    "print(prime4(257))\n"
   ]
  },
  {
   "cell_type": "markdown",
   "metadata": {},
   "source": [
    "The code seems to give intended results.\n",
    "\n",
    "     Let us now discuss about the efficiency of prime4()...\n",
    "\n",
    "No doubt by doing the less iterations the code will perform fast and use less computing resources.\n",
    "\n",
    "But the solution doesnot seems to be much appealing... because the number of iterations or time taken to run the code still scales with the number. In this case the time taken is directly proportional to the ***square root*** of the number, *not to the number itself*... Thus scaleing of execution is *slow* with increase in size of the number.\n",
    "\n",
    "This no doubt is a good achivement but in the worst cases of very large numbers the code still has a potential of becoming inefficient.\n",
    "\n",
    "<hr>\n",
    "\n",
    "<sup>[ Prof. Madhvan ] (*ed.)</sup>\n",
    "\n",
    "     In case of prime4()* we achive a drastic improvement in a sense for eg. if the input was of 1000,000... the code will only execute 1000 times... But actually we would like something even more efficient than this...but that is beyond the scope of this course.\n",
    "\n",
    "<hr>"
   ]
  },
  {
   "cell_type": "markdown",
   "metadata": {},
   "source": [
    "In this Part 1 of the current lecture we try to make an intuition about why we always try to improve the code.\n",
    "\n",
    " We learned a very important practice in programming...that is - the code we write must be efficient in terms of both *time* and the *computing resources* that it use.\n",
    "\n",
    "Its time now to proceed the Part2 of this lecture. In which try to achive some *complex task* which requires the most efficient primeality checking function(*prime4*) that we evaluated in this lecture as *base*.\n",
    "\n",
    "Lets proceed to **Part-2**...."
   ]
  }
 ],
 "metadata": {
  "kernelspec": {
   "display_name": "Python 3",
   "language": "python",
   "name": "python3"
  },
  "language_info": {
   "codemirror_mode": {
    "name": "ipython",
    "version": 3
   },
   "file_extension": ".py",
   "mimetype": "text/x-python",
   "name": "python",
   "nbconvert_exporter": "python",
   "pygments_lexer": "ipython3",
   "version": "3.11.0"
  }
 },
 "nbformat": 4,
 "nbformat_minor": 2
}
