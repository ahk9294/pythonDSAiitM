{
 "cells": [
  {
   "cell_type": "markdown",
   "metadata": {
    "colab_type": "text",
    "id": "view-in-github"
   },
   "source": [
    "<a href=\"https://colab.research.google.com/github/ahk9294/pythonDsaIitmNotes/blob/main/week1/week1Lec2.ipynb\" target=\"_parent\"><img src=\"https://colab.research.google.com/assets/colab-badge.svg\" alt=\"Open In Colab\"/></a>"
   ]
  },
  {
   "cell_type": "markdown",
   "metadata": {
    "id": "TmnIGzAm0QLu"
   },
   "source": [
    "# Week 1 lecture 1\n",
    "### Prof Madhvan Mukund | Chennai Mathematical Institute , IIT Madras.\n",
    "\n",
    "<hr>\n",
    "\n",
    "#### Using Jupyter Notebooks in Google Colab environment.\n",
    "\n",
    "<hr>\n",
    "\n",
    "Google colab is build upon the Jupyter Notebooks standards(produces the same *.ipynb* files) which the original Jupyter Notebook produces.\n",
    "\n",
    "One can say that *Google colab* is an *instance of Jupyter Notebook* , specially tailored by Google with some extra features."
   ]
  },
  {
   "cell_type": "markdown",
   "metadata": {
    "id": "ZWUDlEZXOANi"
   },
   "source": [
    "## Structure of a Jupyter notebook.\n",
    "\n",
    "Every Jupyter notebook file has  *'.ipynb'* extension.\n",
    "\n",
    "This file itself is a Jupyter Notebook!\n",
    "\n",
    "The complete notebook is made of linearly arranged individual *cells* , stacked one over other from top to bottom.\n",
    "\n",
    "Every cell can either contain some execuatble code or a markdown sytax. This means that each cell is of a particular  *type*.- either *code* or *markdown* type.\n",
    "\n"
   ]
  },
  {
   "cell_type": "markdown",
   "metadata": {},
   "source": [
    "## Why Jupyter notebooks\n",
    "\n",
    "Jupyter notebooks are interesting way to creates *documents which involves code*.\n",
    "\n",
    "It provides a platform where we can write explainatory *text* as well as *code* inside one document. \n",
    "\n",
    "The best thing is we can compile and test the code within the notebook itself.\n",
    "\n",
    "This makes the study of code more involving.\n",
    "\n",
    "The Jupyter notebook supports various programing languages. But it is mostly used with python in the study of Machine learning."
   ]
  },
  {
   "cell_type": "code",
   "execution_count": null,
   "metadata": {
    "id": "SqWdDXSb0Jka"
   },
   "outputs": [],
   "source": []
  }
 ],
 "metadata": {
  "colab": {
   "authorship_tag": "ABX9TyMnKOfM0Y+C+dBYDwxPUpfU",
   "include_colab_link": true,
   "provenance": []
  },
  "kernelspec": {
   "display_name": "Python 3 (ipykernel)",
   "language": "python",
   "name": "python3"
  },
  "language_info": {
   "codemirror_mode": {
    "name": "ipython",
    "version": 3
   },
   "file_extension": ".py",
   "mimetype": "text/x-python",
   "name": "python",
   "nbconvert_exporter": "python",
   "pygments_lexer": "ipython3",
   "version": "3.11.5"
  }
 },
 "nbformat": 4,
 "nbformat_minor": 1
}
