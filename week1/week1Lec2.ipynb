{
  "nbformat": 4,
  "nbformat_minor": 0,
  "metadata": {
    "colab": {
      "provenance": [],
      "authorship_tag": "ABX9TyMnKOfM0Y+C+dBYDwxPUpfU",
      "include_colab_link": true
    },
    "kernelspec": {
      "name": "python3",
      "display_name": "Python 3"
    },
    "language_info": {
      "name": "python"
    }
  },
  "cells": [
    {
      "cell_type": "markdown",
      "metadata": {
        "id": "view-in-github",
        "colab_type": "text"
      },
      "source": [
        "<a href=\"https://colab.research.google.com/github/ahk9294/pythonDsaIitmNotes/blob/main/week1/week1Lec2.ipynb\" target=\"_parent\"><img src=\"https://colab.research.google.com/assets/colab-badge.svg\" alt=\"Open In Colab\"/></a>"
      ]
    },
    {
      "cell_type": "markdown",
      "source": [
        "# Week 1 lecture 1\n",
        "### Prof Madhvan Mukund | Chennai Mathematical Institute , IIT Madras.\n",
        "\n",
        "<hr>\n",
        "\n",
        "#### Using Jupyter Notebooks in Google Colab environment.\n",
        "\n",
        "<hr>\n",
        "\n",
        "Google colab is build upon the Jupyter Notebooks standards(produces the same *.ipynb* files) which the original Jupyter Notebook produces.\n",
        "\n",
        "One can say that *Google colab* is an *instance of Jupyter Notebook* , specially tailored by Google with some extra features."
      ],
      "metadata": {
        "id": "TmnIGzAm0QLu"
      }
    },
    {
      "cell_type": "markdown",
      "source": [
        "## Structure of a Jupyter notebook.\n",
        "\n",
        "Every Jupyter notebook file has  *'.ipynb'* extension.\n",
        "\n",
        "This file itself is a Jupyter Notebook!\n",
        "\n",
        "The complete notebook is made of linearly arranged individual *cells* , stacked one over other from top to bottom.\n",
        "\n",
        "Every cell can either contain some execuatble code or a markdown sytax. This means that each cell is of a particular  *type*.- either *code* or *markdown* type.\n",
        "\n"
      ],
      "metadata": {
        "id": "ZWUDlEZXOANi"
      }
    },
    {
      "cell_type": "code",
      "execution_count": null,
      "metadata": {
        "id": "SqWdDXSb0Jka"
      },
      "outputs": [],
      "source": []
    }
  ]
}