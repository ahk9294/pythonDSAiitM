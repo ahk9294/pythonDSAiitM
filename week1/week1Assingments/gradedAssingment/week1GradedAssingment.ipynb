{
 "cells": [
  {
   "cell_type": "markdown",
   "metadata": {},
   "source": [
    "# Week 1 : Graded Assingment\n",
    "<hr>\n",
    "\n",
    "## Question 1\n",
    "\n",
    "S is a non-empty string of English letters without any space. What fun(S) will return after execution of the below code?"
   ]
  },
  {
   "cell_type": "code",
   "execution_count": 14,
   "metadata": {},
   "outputs": [],
   "source": [
    "def fun(S):\n",
    "    p=0\n",
    "    S=S.lower()\n",
    "    for i in range(len(S)):\n",
    "        if S[i] not in S[:i]:\n",
    "            p +=1\n",
    "    return p\n"
   ]
  },
  {
   "cell_type": "markdown",
   "metadata": {},
   "source": [
    "<input type=\"radio\" name=\"q1\">Total number of letters in the string S .\n",
    "\n",
    "<input type=\"radio\" name=\"q1\">Total number of distinct letters in the string S .\n",
    "\n",
    "<input type=\"radio\" name=\"q1\">Total number of letters that are repeated in the string S more than one time.\n",
    "\n",
    "<input type=\"radio\" name=\"q1\">Difference of total letters in the string S and distinct letters in the string S .\n",
    "\n",
    "**My Answers** : b"
   ]
  },
  {
   "cell_type": "markdown",
   "metadata": {},
   "source": [
    "## Question 2:\n",
    "\n",
    "Which of the following is/are valid reason(s) for NameError exception? [MSQ]"
   ]
  },
  {
   "cell_type": "markdown",
   "metadata": {},
   "source": [
    "<input type=\"checkbox\" name=\"q2\"> Variable is not defined.\n",
    "\n",
    "<input type=\"checkbox\" name=\"q2\">Calling a function before declaration.\n",
    "\n",
    "<input type=\"checkbox\" name=\"q2\">Misspelled built-in functions name\n",
    "\n",
    "<input type=\"checkbox\" name=\"q2\">Variables are defined globally in the program .\n",
    "\n",
    "**My Answers** : a , c"
   ]
  },
  {
   "cell_type": "markdown",
   "metadata": {},
   "source": [
    "## Question 3 \n",
    "\n",
    "What is f(60) - f(59) , given the definition of f below?\n"
   ]
  },
  {
   "cell_type": "code",
   "execution_count": 15,
   "metadata": {},
   "outputs": [],
   "source": [
    "def f(n):\n",
    "    s=0\n",
    "    for i in range(2,n):\n",
    "        if(n%i==0 and i%2==1):\n",
    "            s +=1\n",
    "    return(s)\n"
   ]
  },
  {
   "cell_type": "markdown",
   "metadata": {},
   "source": [
    "**My answer** : 3"
   ]
  },
  {
   "cell_type": "markdown",
   "metadata": {},
   "source": [
    "## Question 4\n",
    "\n",
    "What will be the output of the code-snippet?"
   ]
  },
  {
   "cell_type": "code",
   "execution_count": 16,
   "metadata": {},
   "outputs": [
    {
     "name": "stdout",
     "output_type": "stream",
     "text": [
      "1 2 3 4 "
     ]
    }
   ],
   "source": [
    "x = 1\n",
    "while True:\n",
    "    if x % 5 == 0:\n",
    "        break\n",
    "    print(x, end=' ')\n",
    "    x += 1"
   ]
  },
  {
   "cell_type": "markdown",
   "metadata": {},
   "source": [
    "<input type=\"radio\" name=\"q4\">Syntax error\n",
    "\n",
    "<input type=\"radio\" name=\"q4\">2 1\n",
    "\n",
    "<input type=\"radio\" name=\"q4\">0 3 1\n",
    "\n",
    "<input type=\"radio\" name=\"q4\">None of these\n",
    "\n",
    "**My Answer** d"
   ]
  },
  {
   "cell_type": "markdown",
   "metadata": {},
   "source": [
    "## Question 5\n",
    "\n",
    "What will be the output of the below code-snippet?\n"
   ]
  },
  {
   "cell_type": "code",
   "execution_count": 1,
   "metadata": {},
   "outputs": [
    {
     "name": "stdout",
     "output_type": "stream",
     "text": [
      "Hello, Good morning\n"
     ]
    }
   ],
   "source": [
    "class Person:\n",
    "    def __init__(self, name):\n",
    "        self.name = name\n",
    "    \n",
    "    def say_hi(self):\n",
    "        print('Hello,', self.name)\n",
    "\n",
    "p = Person('Good morning')\n",
    "p.say_hi()"
   ]
  },
  {
   "cell_type": "markdown",
   "metadata": {},
   "source": [
    "(a) Good morning\n",
    "\n",
    "(b) Hello, Good morning\n",
    "\n",
    "(c) Hello Good morning\n",
    "\n",
    "(d) Good\n",
    "\n",
    "**My Answer** b"
   ]
  },
  {
   "cell_type": "markdown",
   "metadata": {},
   "source": [
    "## Question 6\n",
    "\n",
    "What will be the output of the above code-snippet?"
   ]
  },
  {
   "cell_type": "code",
   "execution_count": 18,
   "metadata": {},
   "outputs": [
    {
     "name": "stdout",
     "output_type": "stream",
     "text": [
      "second element = 2\n",
      "An error occurred\n"
     ]
    }
   ],
   "source": [
    "a = [1, 2, 3]\n",
    "try:\n",
    "    print(\"second element = %d\" % (a[1]))\n",
    "    print(\"Fourth element = %d\" % (a[3]))\n",
    "except:\n",
    "    print(\"An error occurred\")"
   ]
  },
  {
   "cell_type": "markdown",
   "metadata": {},
   "source": [
    "(a) Second element = \n",
    "\n",
    "(b) An error occurred\n",
    "\n",
    "(c) Second element = 2\n",
    "    An error occurred\n",
    "\n",
    "(d) Second element = 2\n",
    "    Fourth element = 3\n",
    "    An error occurred\n",
    "\n",
    "**My Answer** c\n"
   ]
  },
  {
   "cell_type": "markdown",
   "metadata": {},
   "source": [
    "## Question 7\n",
    "Read the code-snippet below."
   ]
  },
  {
   "cell_type": "code",
   "execution_count": null,
   "metadata": {},
   "outputs": [],
   "source": [
    "def special3Bad(L):\n",
    "    try:\n",
    "        if L[0] % L[1] == 0 and L[1] != 0:\n",
    "            if L[0] / (L[1] ** 2 - L[2]) == 0:\n",
    "                return True\n",
    "        return False\n",
    "    except ZeroDivisionError:\n",
    "        print('ZeroDivisionError')\n",
    "    except:\n",
    "        print('Some other exception occurred')\n",
    "    else:\n",
    "        print('No exception occurred')\n",
    "        \n",
    "special3Bad(L)\n"
   ]
  },
  {
   "cell_type": "markdown",
   "metadata": {},
   "source": [
    "Given above is a function that checks whether a list satisfies some property. There is an error in this function. Select the list(s) L = [n1, n2, n3] , where n1 , n2 and n3 are all integers, for which special3Bad(L) produces a ZeroDivisionError exception. [MSQ]"
   ]
  },
  {
   "cell_type": "markdown",
   "metadata": {},
   "source": [
    "(a) L = [4, 2, 8]\n",
    "\n",
    "(b) L = [4, 2, 4]\n",
    "\n",
    "(c) L = [8, 4, 16]\n",
    "\n",
    "(d) L = [48, 6, 36]\n",
    "\n",
    "(e) L = [44, 6, 36]\n",
    "\n",
    "**My Answers** b,c,d"
   ]
  },
  {
   "cell_type": "markdown",
   "metadata": {},
   "source": [
    "## Question 8\n",
    "\n",
    "Read the code-snippet given below :"
   ]
  },
  {
   "cell_type": "code",
   "execution_count": null,
   "metadata": {},
   "outputs": [],
   "source": [
    "def isSymmetricBad(L):\n",
    "    try:\n",
    "        while len(L) > 0:\n",
    "            if L.pop(0) != L.pop(-1):\n",
    "                return False\n",
    "        return True\n",
    "    except IndexError:\n",
    "        print('IndexError occurred')\n",
    "    except:\n",
    "        print('Some other exception occurred')\n",
    "    else:\n",
    "        print('No exception occurred')\n",
    "isSymmetricBad(L)"
   ]
  },
  {
   "cell_type": "markdown",
   "metadata": {},
   "source": [
    "Given above is a function to check whether a list is a palindrome. There is an error in this function. Select the list(s)\n",
    "L = [n1, n2,..., n2, n1] , for which isSymmetricBad(L) produces an IndexError exception. [MSQ]"
   ]
  },
  {
   "cell_type": "markdown",
   "metadata": {},
   "source": [
    "(a) L = [1, 2, 3, 4, 3, 2, 1]\n",
    "\n",
    "(b) L = [2, 2, 2, 2, 2, 2]\n",
    "\n",
    "(c) L = [1, 1, 1, 1, 1, 1, 1]\n",
    "\n",
    "(d) L = [8]\n",
    "\n",
    "(e) L = [2, 4, 6]\n",
    "\n",
    "**My Answer** a,c,d"
   ]
  },
  {
   "cell_type": "markdown",
   "metadata": {},
   "source": [
    "## Question 9\n",
    "\n",
    "Read the following code-snippet"
   ]
  },
  {
   "cell_type": "code",
   "execution_count": null,
   "metadata": {},
   "outputs": [],
   "source": [
    "def gcd(m, n):\n",
    "    (a, b) = (max(m, n), min(m, n))\n",
    "    if a % b == 0:\n",
    "        return b\n",
    "    else:\n",
    "        return gcd(b, a % b)\n",
    "\n",
    "print(gcd(24, 130))\n"
   ]
  },
  {
   "cell_type": "markdown",
   "metadata": {},
   "source": [
    "How many times gcd() function will be called?\n",
    "\n",
    "Note: Ignore the first call given in the code.\n",
    "\n",
    "**My Answer** : 3"
   ]
  },
  {
   "cell_type": "markdown",
   "metadata": {},
   "source": [
    "## Question 10\n",
    "\n",
    "Read the code-snippet"
   ]
  },
  {
   "cell_type": "code",
   "execution_count": null,
   "metadata": {},
   "outputs": [],
   "source": [
    "class Enrollment:\n",
    "    count = 0\n",
    "\n",
    "    def __init__(self, n, c):\n",
    "        self.name = n\n",
    "        self.course = c\n",
    "        Enrollment.count += 1\n",
    "\n",
    "    def display(self):\n",
    "        print(self.name)\n",
    "        print(self.course)\n"
   ]
  },
  {
   "cell_type": "markdown",
   "metadata": {},
   "source": [
    "Which of the following option(s) is/are correct about the given code? [MSQ]\n",
    "\n",
    "(a) count , name and course are object variables.\n",
    "\n",
    "(b) name and course are class variable and count is an object variable.\n",
    "\n",
    "(c) name and course are object variables, and count is a class variable.\n",
    "\n",
    "(d) count , name and course are class variables.\n",
    "\n",
    "(e) count represents the number of objects created for class Enrollment\n",
    "\n",
    "**My Answers** c,e"
   ]
  }
 ],
 "metadata": {
  "kernelspec": {
   "display_name": "Python 3",
   "language": "python",
   "name": "python3"
  },
  "language_info": {
   "codemirror_mode": {
    "name": "ipython",
    "version": 3
   },
   "file_extension": ".py",
   "mimetype": "text/x-python",
   "name": "python",
   "nbconvert_exporter": "python",
   "pygments_lexer": "ipython3",
   "version": "3.11.0"
  }
 },
 "nbformat": 4,
 "nbformat_minor": 2
}
