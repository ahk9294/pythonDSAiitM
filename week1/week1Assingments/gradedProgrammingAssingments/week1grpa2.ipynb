{
 "cells": [
  {
   "cell_type": "markdown",
   "metadata": {},
   "source": [
    "# Week 1 : Graded Programming Assingment 2 .\n",
    "## Goldbach's conjecture.\n",
    "\n",
    "<hr>\n",
    "\n",
    "Goldbach's conjucture is one of the oldest and best -known unsolved problems in number theory. It states that every even number greater than 2 is the sum of two prime numbers.\n",
    "\n",
    "**For Example :**\n",
    "\n",
    "12 = 5+7 \n",
    "\n",
    "26= 3+23 or 7+19 or 13+13\n",
    "\n",
    "Write a function **Goldbach(n)** where **n** is a positive even number (n>2) that returns a list of tuples. In each tuple (a,b) where **a<=b**, **a** and **b** should be prime numbers and the sum of **a** and **b** should be equal to **n**.\n",
    "\n",
    "**Sample Input**\n",
    "\n",
    "12\n",
    "\n",
    "**Output**\n",
    "\n",
    "[(5,7)]\n",
    "\n",
    "**Sample Input**\n",
    "\n",
    "26\n",
    "\n",
    "**Output**\n",
    "\n",
    "[(3,23),(7,19),(13,13)]\n"
   ]
  },
  {
   "cell_type": "markdown",
   "metadata": {},
   "source": [
    "## Code submitted.\n",
    "\n",
    "following code was submitted."
   ]
  },
  {
   "cell_type": "code",
   "execution_count": 35,
   "metadata": {},
   "outputs": [],
   "source": [
    "import math\n",
    "def prime(n):\n",
    "    flag=True\n",
    "    if(n==0 or n==1 or n<0):\n",
    "        return False\n",
    "    else :\n",
    "        i=2\n",
    "        while(flag==True and i<=math.sqrt(n)):\n",
    "            if(n%i==0):\n",
    "                flag=False\n",
    "            else:\n",
    "                pass\n",
    "            i=i+1\n",
    "    return(flag)\n",
    "\n",
    "def primesUpto(n):\n",
    "\n",
    "    pList=[]\n",
    "    for i in range(n+1):\n",
    "        if(prime(i)):\n",
    "            pList.append(i)\n",
    "        else:\n",
    "            pass\n",
    "    return pList\n",
    "\n",
    "\n",
    "def Goldbach(n):\n",
    "\n",
    "    primeList=primesUpto(n)\n",
    "    finalTuples=[]\n",
    "    for i in range(len(primeList)):\n",
    "        for k in range(i,len(primeList)):\n",
    "            if(primeList[i]+primeList[k]==n):\n",
    "                finalTuples.append([primeList[i],primeList[k]])\n",
    "            else:\n",
    "                pass\n",
    "   \n",
    "    return(finalTuples)\n",
    "\n",
    "    \n",
    "    "
   ]
  },
  {
   "cell_type": "code",
   "execution_count": 36,
   "metadata": {},
   "outputs": [
    {
     "name": "stdout",
     "output_type": "stream",
     "text": [
      "[[3, 13], [5, 11]]\n"
     ]
    }
   ],
   "source": [
    "print(Goldbach(16))"
   ]
  },
  {
   "cell_type": "markdown",
   "metadata": {},
   "source": [
    "**Code Results :**  5/5 private test passed."
   ]
  }
 ],
 "metadata": {
  "kernelspec": {
   "display_name": "Python 3",
   "language": "python",
   "name": "python3"
  },
  "language_info": {
   "codemirror_mode": {
    "name": "ipython",
    "version": 3
   },
   "file_extension": ".py",
   "mimetype": "text/x-python",
   "name": "python",
   "nbconvert_exporter": "python",
   "pygments_lexer": "ipython3",
   "version": "3.11.0"
  }
 },
 "nbformat": 4,
 "nbformat_minor": 2
}
