{
 "cells": [
  {
   "cell_type": "markdown",
   "metadata": {},
   "source": [
    "# Week1 :Graded Programming Assingment -1\n",
    "\n",
    "## Combinations\n",
    "\n",
    "<hr>\n",
    "\n",
    "Write a function **find_Min_Differenece(L,P)** that accepts a list **L** of integers and **P**(positive integer) where the size of **L** is greater than **P**. The task is to pick **P** different elements from the list **L**, where the difference between the maximum value and minimum value in selected elements is minimum compared to other differences in possible subset of **P** elements. The function returns this minimum difference value.\n",
    "\n",
    "**Note**- The list can contain more than one subset of **P** elements that have the same minimum difference value.\n",
    "\n",
    "**Example**\n",
    "\n",
    "Let **L = [3,4,1,9,56,7,9,12,13]** and **P=5**\n",
    "\n",
    "If we see the following two subsets of 5 elements from **L**\n",
    "\n",
    "[3,4,7,9,9] or [7,9,9,12,13]\n",
    "\n",
    "Here the difference between the maximum value and the minimum value in both subset is 9-3=6 or 13-7 = 6 , which is minimum. So the output will be 6."
   ]
  },
  {
   "cell_type": "markdown",
   "metadata": {},
   "source": [
    "## Submitted Codes:\n",
    "\n",
    "### Code 1:\n",
    "This code generates the combination manually."
   ]
  },
  {
   "cell_type": "code",
   "execution_count": 12,
   "metadata": {},
   "outputs": [],
   "source": [
    "def find_Min_Difference(L,P):\n",
    "\n",
    "    def generate_combinations(L, P):\n",
    "        combinations_list = []\n",
    "        if P == 0:\n",
    "            return [[]]\n",
    "\n",
    "        for i in range(len(L)):\n",
    "            current_element = L[i]\n",
    "\n",
    "            # Recursively generate combinations for the r-1 elements of the remaining list\n",
    "            rest_combinations = generate_combinations(L[i + 1:], P - 1)\n",
    "\n",
    "            # Append the current element to each combination\n",
    "            for combination in rest_combinations:\n",
    "                combinations_list.append([current_element] + combination)\n",
    "\n",
    "        return combinations_list\n",
    "    \n",
    "    combinations=generate_combinations(L,P)\n",
    "    \n",
    "    diffs=[]\n",
    "\n",
    "    for combo in combinations :\n",
    "        diff=max(combo) - min(combo)\n",
    "        diffs.append(diff)\n",
    "\n",
    "    minDiff=min(diffs)\n",
    "    return minDiff\n",
    "    \n",
    "   "
   ]
  },
  {
   "cell_type": "markdown",
   "metadata": {},
   "source": [
    "**Testing the code 1** :"
   ]
  },
  {
   "cell_type": "code",
   "execution_count": 13,
   "metadata": {},
   "outputs": [
    {
     "data": {
      "text/plain": [
       "6"
      ]
     },
     "execution_count": 13,
     "metadata": {},
     "output_type": "execute_result"
    }
   ],
   "source": [
    "find_Min_Difference([3,4,1,9,56,7,9,12],5)"
   ]
  },
  {
   "cell_type": "markdown",
   "metadata": {},
   "source": [
    "**Code1 results** : 4/5 private cases were passed.\n",
    "\n",
    "\n",
    "### Code 2 :\n",
    "\n",
    "In this code i generated the combinations using itertools."
   ]
  },
  {
   "cell_type": "code",
   "execution_count": null,
   "metadata": {},
   "outputs": [],
   "source": [
    "from itertools import combinations\n",
    "def find_Min_Difference(L,P):\n",
    "    \n",
    "    comblist=list(combinations(L,P))\n",
    "    \n",
    "    diffs=[]\n",
    "    \n",
    "    for comb in comblist :\n",
    "\n",
    "        diff=max(comb)-min(comb)\n",
    "        diffs.append(diff)\n",
    "    \n",
    "    minDiff=min(diffs)\n",
    "        \n",
    "            \n",
    "    return minDiff"
   ]
  },
  {
   "cell_type": "markdown",
   "metadata": {},
   "source": [
    "**Code 2 Results :** 5/5 private test passed."
   ]
  },
  {
   "cell_type": "markdown",
   "metadata": {},
   "source": [
    "## references :\n",
    "\n",
    "from chat Gpt "
   ]
  },
  {
   "cell_type": "code",
   "execution_count": 14,
   "metadata": {},
   "outputs": [
    {
     "name": "stdout",
     "output_type": "stream",
     "text": [
      "Original List: [1, 2, 3, 4, 5]\n",
      "All possible lists of 3 elements:\n",
      "[1, 2, 3]\n",
      "[1, 2, 4]\n",
      "[1, 2, 5]\n",
      "[1, 3, 4]\n",
      "[1, 3, 5]\n",
      "[1, 4, 5]\n",
      "[2, 3, 4]\n",
      "[2, 3, 5]\n",
      "[2, 4, 5]\n",
      "[3, 4, 5]\n"
     ]
    }
   ],
   "source": [
    "def generate_combinations(original_list, r):\n",
    "    combinations_list = []\n",
    "\n",
    "    # Base case: if r is 0, return an empty list\n",
    "    if r == 0:\n",
    "        return [[]]\n",
    "\n",
    "    # Recursive case\n",
    "    for i in range(len(original_list)):\n",
    "        # Select the current element\n",
    "        current_element = original_list[i]\n",
    "\n",
    "        # Recursively generate combinations for the rest of the list\n",
    "        rest_combinations = generate_combinations(original_list[i + 1:], r - 1)\n",
    "\n",
    "        # Append the current element to each combination\n",
    "        for combination in rest_combinations:\n",
    "            combinations_list.append([current_element] + combination)\n",
    "\n",
    "    return combinations_list\n",
    "\n",
    "# Given list of 5 integers\n",
    "original_list = [1, 2, 3, 4, 5]\n",
    "\n",
    "# Generate all possible lists of 3 elements\n",
    "combinations_list = generate_combinations(original_list, 3)\n",
    "\n",
    "# Print the result\n",
    "print(\"Original List:\", original_list)\n",
    "print(\"All possible lists of 3 elements:\")\n",
    "for combo in combinations_list:\n",
    "    print(combo)\n"
   ]
  },
  {
   "cell_type": "markdown",
   "metadata": {},
   "source": [
    "**Using 'itertools' module**\n",
    "\n",
    "I noticed that code to generate combinations becomes a lot easier when we used the itertools."
   ]
  },
  {
   "cell_type": "code",
   "execution_count": 15,
   "metadata": {},
   "outputs": [
    {
     "name": "stdout",
     "output_type": "stream",
     "text": [
      "All possible lists of 3 elements from the given list:\n",
      "[1, 2, 3]\n",
      "[1, 2, 4]\n",
      "[1, 2, 5]\n",
      "[1, 3, 4]\n",
      "[1, 3, 5]\n",
      "[1, 4, 5]\n",
      "[2, 3, 4]\n",
      "[2, 3, 5]\n",
      "[2, 4, 5]\n",
      "[3, 4, 5]\n"
     ]
    }
   ],
   "source": [
    "from itertools import combinations\n",
    "\n",
    "def get_combinations(input_list, P):\n",
    "    return list(combinations(input_list, P))\n",
    "\n",
    "# Example usage:\n",
    "original_list = [1, 2, 3, 4, 5]\n",
    "P = 3\n",
    "\n",
    "combinations_list = get_combinations(original_list, P)\n",
    "\n",
    "print(f\"All possible lists of {P} elements from the given list:\")\n",
    "for combo in combinations_list:\n",
    "    print(list(combo))\n"
   ]
  }
 ],
 "metadata": {
  "kernelspec": {
   "display_name": "Python 3",
   "language": "python",
   "name": "python3"
  },
  "language_info": {
   "codemirror_mode": {
    "name": "ipython",
    "version": 3
   },
   "file_extension": ".py",
   "mimetype": "text/x-python",
   "name": "python",
   "nbconvert_exporter": "python",
   "pygments_lexer": "ipython3",
   "version": "3.11.0"
  }
 },
 "nbformat": 4,
 "nbformat_minor": 2
}
