{
 "cells": [
  {
   "cell_type": "markdown",
   "metadata": {},
   "source": [
    "# Week1 : Graded Programming Assingment 3.\n",
    "\n",
    "## Odd one's data type.\n",
    "\n",
    "<hr>\n",
    "\n",
    "Write a funtion named **odd_one(L)** that accepts a list **L** as argument. Except for one element, all other elements in L are of the same data type. The function **odd_one** should return the data type of this odd element.\n",
    "\n",
    "For example , if L is equal to [1,2,3.4,5,10], the the function should return the string **float**. This is because the element 3.4 is the odd one here, all other elements are integers.\n",
    "\n",
    "**Note**\n",
    "\n",
    "- **L** has at least three elements.\n",
    "\n",
    "- For each test case, the elements in the list will only be of one of these four types : **int**, **float**,**str**,**bool**\n",
    "\n",
    "- The function must return one of these four string: **int**,**float**,**str**,**bool**.\n",
    "\n",
    "- Hint: type(1)==int evaluates to **True**.\n",
    "\n",
    "\n",
    "**Test cases**\n",
    "\n",
    "Test Case 1\n",
    "Input \n",
    "Expected Output \n",
    "[2,13,16,4.5]\n",
    "float\n",
    "\n",
    "Test Case 2\n",
    "Input  \n",
    "Expected Output\n",
    "[1.5,2.0,3.6,1,2.6,8.6]\n",
    "int\n",
    "\n",
    "Test Case 3\n",
    "Input\n",
    "Expected Output\n",
    "[2,3,4,5,6,7,'1']\n",
    "str\n",
    "\n",
    "\n",
    "## Answer"
   ]
  },
  {
   "cell_type": "code",
   "execution_count": 8,
   "metadata": {},
   "outputs": [],
   "source": [
    "def odd_one(L):\n",
    "    dataTypes={'int':0,'float':0,'str':0,'bool':0}\n",
    "    for e in L:\n",
    "        if(type(e)==int):\n",
    "            dataTypes['int'] +=1\n",
    "        elif(type(e)==float):\n",
    "            dataTypes['float'] +=1\n",
    "        elif(type(e)==str):\n",
    "            dataTypes['str'] +=1\n",
    "        elif(type(e)==bool):\n",
    "            dataTypes['bool'] +=1\n",
    "        else:\n",
    "            pass\n",
    "\n",
    "    typeList=[]\n",
    "    minValueKey=''\n",
    "    for key in dataTypes.keys():\n",
    "        if(dataTypes[key]==0):\n",
    "            continue\n",
    "        else:\n",
    "            if(minValueKey==''):\n",
    "                minValueKey=key\n",
    "            elif(dataTypes[minValueKey]>dataTypes[key]):\n",
    "                minValueKey=key\n",
    "            else:\n",
    "                pass\n",
    "    \n",
    "    return(minValueKey)\n",
    "            \n",
    "\n",
    "\n",
    "\n"
   ]
  },
  {
   "cell_type": "markdown",
   "metadata": {},
   "source": [
    "**Testing**"
   ]
  },
  {
   "cell_type": "code",
   "execution_count": 10,
   "metadata": {},
   "outputs": [
    {
     "name": "stdout",
     "output_type": "stream",
     "text": [
      "int\n",
      "str\n"
     ]
    }
   ],
   "source": [
    "l=[1.5,2.0,3.6,1,2.6,8.6]\n",
    "m=[2,3,4,5,6,7,'1']\n",
    "print(odd_one(l))\n",
    "print(odd_one(m))"
   ]
  },
  {
   "cell_type": "markdown",
   "metadata": {},
   "source": [
    "**Result** : 5/5 private test passed."
   ]
  }
 ],
 "metadata": {
  "kernelspec": {
   "display_name": "Python 3",
   "language": "python",
   "name": "python3"
  },
  "language_info": {
   "codemirror_mode": {
    "name": "ipython",
    "version": 3
   },
   "file_extension": ".py",
   "mimetype": "text/x-python",
   "name": "python",
   "nbconvert_exporter": "python",
   "pygments_lexer": "ipython3",
   "version": "3.11.0"
  }
 },
 "nbformat": 4,
 "nbformat_minor": 2
}
