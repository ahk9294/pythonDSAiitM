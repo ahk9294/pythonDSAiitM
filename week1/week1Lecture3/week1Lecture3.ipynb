{
 "cells": [
  {
   "cell_type": "markdown",
   "metadata": {},
   "source": [
    "<center>\n",
    "\n",
    "## Week1 Lecture 3 \n",
    "#### Prof Madhvan Mukund | Edited by Abhishek verma.\n",
    "\n",
    "# Python Recap -1\n",
    "\n",
    "#### Computing gcd\n",
    "\n",
    "</center>\n",
    "\n",
    "<hr>\n",
    "\n",
    "Let us start the study of *Data structures and Algorithms* by recaping the *syntax* and *functionalities* of python.\n",
    "\n",
    "We will do this with the help of some running examples.\n",
    "\n",
    "## Computing gcd of two numbers.\n",
    "\n",
    "<hr>\n",
    "\n",
    "Consider the problem of computing the **gcd** of two numbers.\n",
    "\n",
    "###  What is 'gcd'?\n",
    "\n",
    "**gcd** or *greatest common factor/divisor* also sometimes called the **hcf**.\n",
    "\n",
    "One of the best thing about the gcd is that **for any given numbers the gcd always exist.**\n",
    "\n",
    "For eg. in the worst case like that of 46 and 53 where there are no *common factors* the gcd will be 1. \n",
    "\n",
    "Because 1 is always available as the common factor for every number. \n",
    "\n",
    "Lets write some python functions to calculate the gcd of two numbers in different ways and later on we will disscuss which way is more efficient than the other.\n",
    "\n",
    "## the gcd1\n",
    "\n",
    "<hr>\n",
    "\n",
    "The most illustrative way of calculating gcd of two numbers is:\n",
    "- *listing* all common factors of both numbers.....\n",
    "- and then selecting the largest one.\n",
    "\n",
    "This method can be implemented in python as follows :\n"
   ]
  },
  {
   "cell_type": "code",
   "execution_count": 2,
   "metadata": {},
   "outputs": [],
   "source": [
    "def gcd1(m,n) :\n",
    "    commonFactors =[]   \n",
    "    '''\n",
    "    In Python, there is no way in which the python recognizes 'the type' of varialble unless you initialize it. \n",
    "    Here by initializing the variable commonFactors=[] we tell the python that it of 'list' type.\n",
    "\n",
    "    By doing this we are now ready to apply all the methods on 'commonFactors' designed for the list data type in python.\n",
    "    '''\n",
    "    for i in range(1,min(m,n)+1) :  # the gcd will be always less than(or equal to) the min among the m and n. (think why)?\n",
    "        if (m%i==0 and n%i==0) :\n",
    "            commonFactors.append(i) # collect the common factors of m and n one by one in the sorted order.\n",
    "    return(commonFactors[-1])       # pull out the largest common factor. This will be te gcd of m and n."
   ]
  },
  {
   "cell_type": "markdown",
   "metadata": {},
   "source": [
    "Notice that the above algorithm uses the following *facts* and *resources* :\n",
    "\n",
    "-  **gcd(m,n)<=min(m,n)**. Think why it is true.\n",
    "\n",
    "- The *Data Structure* that we used here is the *list*.\n",
    "\n",
    "We can look the above definition **gcd1** as the 'back-end' for computing the gcd of two numbers.\n",
    "\n",
    "Now let us type the 'front-end' to supply the inputs and see how the algorithm behaves."
   ]
  },
  {
   "cell_type": "code",
   "execution_count": 3,
   "metadata": {},
   "outputs": [
    {
     "name": "stdout",
     "output_type": "stream",
     "text": [
      "1\n"
     ]
    }
   ],
   "source": [
    "print(gcd1(24,53))"
   ]
  },
  {
   "cell_type": "markdown",
   "metadata": {},
   "source": [
    "We noticed that the alogorithm works very fine and given the output.\n",
    "\n",
    "Now let us consider the second approach to calculate the **gcd**.\n",
    "\n",
    "## the gcd 2\n",
    "\n",
    "<hr>\n",
    "\n",
    "In the definition *gcd1* , if we notice carefully it turns out that : \n",
    "\n",
    " if we are just concerned with calculating the '*greatest common factor*', then there is no need to keep track of all the common-factors.\n",
    "\n",
    "Infact we just need the ' **m**ost **r**ecent **c**ommon **f**actor'.\n",
    "\n",
    "So we can modify the gcd1 as follows :"
   ]
  },
  {
   "cell_type": "code",
   "execution_count": 10,
   "metadata": {},
   "outputs": [],
   "source": [
    "def gcd2(m,n) :\n",
    "    for i in range(1,min(m,n)+1) :  # the list is completely eliminated as we dont need to keep track of all the common factors.\n",
    "        if (m%i==0 and n%i==0):\n",
    "            mrcf = i                # update the mrcf variable with most recent common factor.\n",
    "    return (mrcf)"
   ]
  },
  {
   "cell_type": "markdown",
   "metadata": {},
   "source": [
    "Lets run this gcd2 and see if it works fine or not....."
   ]
  },
  {
   "cell_type": "code",
   "execution_count": 14,
   "metadata": {},
   "outputs": [
    {
     "name": "stdout",
     "output_type": "stream",
     "text": [
      "12\n"
     ]
    }
   ],
   "source": [
    "print(gcd2(24,36))"
   ]
  },
  {
   "cell_type": "markdown",
   "metadata": {},
   "source": [
    "Notice that this works fine too.\n",
    "\n",
    "Now what we are concerned about is :\n",
    "\n",
    "- how long these two functions take to calculate the gcd ?...\n",
    "- ....Which one is more Efficient than other in terms of time and resources that they use.... or both uses same time and resources ?.....\n",
    "- ...are there more good ways to calculate the gcd ? ....\n",
    "\n",
    "So these are the type of questions that we are going to look at in details in this course. \n",
    "\n",
    "Especially we will try to assess how *efficient* are the peices of codes that we write.\n",
    "\n",
    "In case of above discussed gcd1 and gcd2 can we guess which one is better ?\n",
    "\n",
    "It turns out that there is not much difference in the efficiency of **gcd1** and **gcd2** ...\n",
    "\n",
    "..as both of them involves the **for loop that runs the min(m,n) time**\n",
    "\n",
    "....**so both of the functions takes time proportional to the minimum of m and n wether they do it with the list or without the list.**\n",
    "\n",
    "<hr>\n",
    "\n",
    "So notice that although we changed the Datastructure in above methods... in one case we used the **list** and in the other we recorded the most recent factor in a **variable**....the time taken in both the cases fundamentaly doesnot change....it remains proportional to minimum of m and n.\n",
    "\n",
    "<hr>\n",
    "\n",
    "\n",
    "So can't we calculate the gcd in more efficient way?\n",
    "\n",
    "It turns out that there are better ways, We will see then later. For now lets see the other examples. \n"
   ]
  },
  {
   "cell_type": "markdown",
   "metadata": {},
   "source": []
  }
 ],
 "metadata": {
  "kernelspec": {
   "display_name": "Python 3",
   "language": "python",
   "name": "python3"
  },
  "language_info": {
   "codemirror_mode": {
    "name": "ipython",
    "version": 3
   },
   "file_extension": ".py",
   "mimetype": "text/x-python",
   "name": "python",
   "nbconvert_exporter": "python",
   "pygments_lexer": "ipython3",
   "version": "3.11.0"
  }
 },
 "nbformat": 4,
 "nbformat_minor": 2
}
