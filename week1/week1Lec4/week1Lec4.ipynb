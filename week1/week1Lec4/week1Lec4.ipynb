{
 "cells": [
  {
   "cell_type": "markdown",
   "metadata": {},
   "source": [
    "<center>\n",
    "\n",
    "## Week1 Lecture 4\n",
    "#### Prof Madhvan Mukund | Edited by Abhishek Verma\n",
    "\n",
    "# Python Recap -II \n",
    "#### Computing Primes.\n",
    "\n",
    "</center>\n",
    "\n",
    "<hr>\n",
    "\n"
   ]
  },
  {
   "cell_type": "markdown",
   "metadata": {},
   "source": [
    "After having computed **gcd** in the last lecture let us work on computing primes.\n",
    "\n",
    "### What is a prime number ?\n",
    "\n",
    "Any number having **only and only** two factors, **not less than 2...not greater than 2**, are prime numbers.\n",
    "\n",
    "- These two factors are fixed :  the number 1 and the number itself.\n",
    "- Notice that 1 is not a prime as it have only **one factor** i.e the 1 itself.\n",
    "- The smallest prime is 2.\n",
    "\n",
    "Lets try some strategies in python to check wether the given number is prime or not. \n",
    "\n",
    "## Designing a function to check whether a given number is a prime or not.\n",
    "\n",
    "<hr>\n",
    "\n",
    "We will now try to design several pieces of codes (functions) to check wether a supplied number is prime or not.\n",
    "\n",
    "- Later on we will discuss about efficiency of these functions. \n",
    "\n",
    "- Further later, We will also make use of these 'prime' functions we just developed to do some more *complex things* like :\n",
    "    - ..identifying the number of primes in a given range. Means adderssing questions like *There are how many primes between 1 and 100?* \n",
    "    - .. keeping track of the differences between two consecutive primes in some range.\n",
    "\n",
    "We will identify and 'embrace' the fact that these kind complex operations becomes lot easier once we first define a basic function to check wether a given number is prime or not.\n",
    "\n",
    "Thus this lecture will be a little bit long.\n",
    "\n",
    "So First and foremost, let us now code some functions to check wether a given number is prime or not.\n",
    "\n",
    "## the prime1\n",
    "\n",
    "<hr>\n",
    "\n",
    "The most obvious strategy to check wether a given number is prime comes out of the *definition* of prime that we discussed above.\n",
    "\n",
    "Based of the definition of a prime number, we will design the **prime1** as follows :\n",
    "\n",
    "- first take a number as input.( Whose primality is to be checked)\n",
    "- make a list of all the factors of it. \n",
    "\n",
    "    - this task can be delegated to the another function that can be called 'factors'.\n",
    "    - the factor function will return a 'list' of all the factors of the input number.\n",
    "    \n",
    "- Once we have a list of factors then we can make another function **prime1** which takes the list returned by the function **factors** and then checks wether this list contains **two and only two factors** i.r [1, the input number]\n",
    "\n",
    "    - notice here that **prime1** depends on another function **factors**. Thus its efficiency is not 'independent', infact it depends upon the efficiency of **factors**.\n",
    "\n",
    "We can code the **prime1** as follows : "
   ]
  },
  {
   "cell_type": "code",
   "execution_count": 6,
   "metadata": {},
   "outputs": [],
   "source": [
    "# Defining the function 'factors' to return a the list of factors of the input numbers :\n",
    "\n",
    "def factors(n):\n",
    "    factorList=[]\n",
    "    for i in range(1, n+1) :\n",
    "        if (n%i==0) :\n",
    "            factorList.append(i)\n",
    "    return(factorList)\n",
    "\n",
    "# Defining prime1\n",
    "\n",
    "def prime1(n):\n",
    "    flag = (factors(n) ==[1,n]) ## flag is a boolean variable which stores 'true' or 'false' on the basis of expresion.\n",
    "    return (flag)"
   ]
  },
  {
   "cell_type": "markdown",
   "metadata": {},
   "source": [
    "now let us test the above code from some front-end."
   ]
  },
  {
   "cell_type": "code",
   "execution_count": 7,
   "metadata": {},
   "outputs": [
    {
     "name": "stdout",
     "output_type": "stream",
     "text": [
      "False\n",
      "True\n",
      "False\n",
      "True\n"
     ]
    }
   ],
   "source": [
    "print(prime1(1))\n",
    "print(prime1(2))\n",
    "print(prime1(15))\n",
    "print(prime1(53))"
   ]
  },
  {
   "cell_type": "markdown",
   "metadata": {},
   "source": [
    "The code works very fine.\n",
    "\n",
    "The **prime1** was the most obvious , very illustrative. But it a **naive** approach in terms of efficient computer programming as it turns out that there are more efficient ways to check for primes.\n",
    "\n",
    "We must discuss some of the improvements that we can make in this code.\n",
    "\n",
    "We gradually try to improve the code, taking baby steps, with a motive to consume less time and resource of our computing machine.\n",
    "\n",
    "Lets design the **prime2**.\n",
    "\n",
    "## the prime2\n",
    "\n",
    "<hr>\n",
    "\n",
    "..."
   ]
  },
  {
   "cell_type": "markdown",
   "metadata": {},
   "source": []
  }
 ],
 "metadata": {
  "kernelspec": {
   "display_name": "Python 3",
   "language": "python",
   "name": "python3"
  },
  "language_info": {
   "codemirror_mode": {
    "name": "ipython",
    "version": 3
   },
   "file_extension": ".py",
   "mimetype": "text/x-python",
   "name": "python",
   "nbconvert_exporter": "python",
   "pygments_lexer": "ipython3",
   "version": "3.11.0"
  }
 },
 "nbformat": 4,
 "nbformat_minor": 2
}
