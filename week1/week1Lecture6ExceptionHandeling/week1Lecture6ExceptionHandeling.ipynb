{
 "cells": [
  {
   "cell_type": "markdown",
   "metadata": {},
   "source": [
    "<center>\n",
    "\n",
    "# Week 1 : Python recap\n",
    "## Lecture 6 : Exception Handeling.\n",
    "\n",
    "#### Notes taken by Abhishek verma.\n",
    "#### Guided during the lectures by Prof. Madhvan Mukund | Chennai Mathematical Institute.\n",
    "\n",
    "# Exception Handeling\n",
    "\n",
    "<hr>\n",
    "\n",
    "</center>\n",
    "\n",
    "##\n",
    "In d \n"
   ]
  },
  {
   "cell_type": "code",
   "execution_count": null,
   "metadata": {},
   "outputs": [],
   "source": []
  }
 ],
 "metadata": {
  "language_info": {
   "name": "python"
  }
 },
 "nbformat": 4,
 "nbformat_minor": 2
}
