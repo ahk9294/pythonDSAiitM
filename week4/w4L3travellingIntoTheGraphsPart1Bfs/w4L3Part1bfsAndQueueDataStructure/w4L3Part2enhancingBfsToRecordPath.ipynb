{
 "cells": [
  {
   "cell_type": "markdown",
   "metadata": {},
   "source": [
    "# Enhancing BFS to record path.\n",
    "\n",
    "We are learning ways to travel into the graph , till now we learnt one way i.e BFS in next lecture 5 we will learn another way i.e DFS. \n",
    "\n",
    "In this lecture we will enhance the BFS to record the paths on which it travelled.\n",
    "\n",
    "## How to record path?\n",
    "\n",
    "Notice that BFS, at the end will return a '*visited*' dictionary which contains information about all the vertices that could be reached from the vertex from where the BFS was started. \n",
    "\n",
    "If the 'visited' value of any vertex in this this dictionary is set to **True** it means there is some path from the **starting vertex** to this vertex. **The question is how to record this path?**\n",
    "\n",
    "One approach is to maintain a **parent information** for each vertex :\n",
    "\n",
    "- As BFS proceeds it reaches a vertex *from* some other vertex. Suppose vertex $j$ is visited from vertex $i$ so $i$ will be the *parent* of $j$. If we maintain the 'parent' information of each vertex we could trace out the path.\n",
    "\n",
    "- To record the parent information we could maintain a **parent** dictionary.\n",
    "\n",
    "Lets code this strategy now:"
   ]
  },
  {
   "cell_type": "code",
   "execution_count": 2,
   "metadata": {},
   "outputs": [],
   "source": [
    "# Develop a Queue datastructure to implement the BFS\n",
    "\n",
    "class Queue:\n",
    "\n",
    "    def __init__(self):\n",
    "        self.queue=[]\n",
    "\n",
    "    def is_empty(self):\n",
    "        if (len(self.queue)==0):\n",
    "            return True\n",
    "        else:\n",
    "            return False\n",
    "    \n",
    "    def enqueue(self,vertex):\n",
    "        self.queue.append(vertex)\n",
    "    \n",
    "    def dequeue(self):\n",
    "        if(self.is_empty()==False):\n",
    "            qhead=self.queue[0]\n",
    "            self.queue=self.queue[1:]\n",
    "            return qhead\n",
    "        else: \n",
    "            return None\n",
    "        "
   ]
  },
  {
   "cell_type": "markdown",
   "metadata": {},
   "source": [
    "Once the Queue in place lets prepare the graph"
   ]
  },
  {
   "cell_type": "code",
   "execution_count": 3,
   "metadata": {},
   "outputs": [
    {
     "name": "stdout",
     "output_type": "stream",
     "text": [
      "{0: [1, 2], 1: [3, 4], 2: [3, 4], 3: [4], 4: []}\n"
     ]
    }
   ],
   "source": [
    "# Suppose graph is G(V,E)\n",
    "V = [0,1,2,3,4]\n",
    "E = [(0, 1), (0, 2), (1, 3), (1, 4), (2, 4), (2, 3), (3, 4)] \n",
    "\n",
    "# making the Adjecency List of this graph\n",
    "\n",
    "def adjecencyList(vertex,edges):\n",
    "\n",
    "    adjList={}\n",
    "\n",
    "    for i in range(len(vertex)):\n",
    "        adjList[i]=[]\n",
    "\n",
    "    for (k,j) in edges:\n",
    "        adjList[k].append(j)\n",
    "        adjList[k].sort()\n",
    "\n",
    "    return adjList\n",
    "\n",
    "aList=adjecencyList(V,E)\n",
    "print(aList)"
   ]
  },
  {
   "cell_type": "markdown",
   "metadata": {},
   "source": [
    "Having Graph in form of adjecency List  in place lets start the BFS and see where I can reach from 0."
   ]
  },
  {
   "cell_type": "code",
   "execution_count": 4,
   "metadata": {},
   "outputs": [
    {
     "name": "stdout",
     "output_type": "stream",
     "text": [
      "{0: True, 1: True, 2: True, 3: True, 4: True}\n"
     ]
    }
   ],
   "source": [
    "def BFS(graph,startVertex):\n",
    "    \n",
    "    # initializing the visited dictionary\n",
    "    visited={}\n",
    "    for i in graph.keys():\n",
    "        visited[i]=False\n",
    "\n",
    "    \n",
    "    #initialize the queue\n",
    "\n",
    "    toExploreQ=Queue()\n",
    "    \n",
    "    visited[startVertex]=True\n",
    "    toExploreQ.enqueue(startVertex) # enqueue the start vertex for later exploration \n",
    "    \n",
    "\n",
    "    while (toExploreQ.is_empty()==False):\n",
    "\n",
    "        e=toExploreQ.dequeue()\n",
    "    \n",
    "        #now explore this vertex\n",
    "        for k in graph[e]:\n",
    "            if(visited[k]==False):\n",
    "                visited[k]=True\n",
    "                toExploreQ.enqueue(k)\n",
    "    \n",
    "    return visited\n",
    "\n",
    "\n",
    "print(BFS(aList,0))\n",
    "\n",
    "\n"
   ]
  },
  {
   "cell_type": "markdown",
   "metadata": {},
   "source": [
    "Lets now enhance this BFS to record parents "
   ]
  },
  {
   "cell_type": "code",
   "execution_count": 5,
   "metadata": {},
   "outputs": [
    {
     "name": "stdout",
     "output_type": "stream",
     "text": [
      "({0: False, 1: False, 2: False, 3: True, 4: True}, {0: -1, 1: -1, 2: -1, 3: -1, 4: 3})\n"
     ]
    }
   ],
   "source": [
    "def BFS(graph,startVertex):\n",
    "\n",
    "    visited={} # maintain a visited dictionary \n",
    "    parent={} # maintain a parent dictionary\n",
    "\n",
    "    for i in graph.keys():\n",
    "        visited[i]=False\n",
    "        parent[i]=-1    # -1 will be a safe value for initializing\n",
    "\n",
    "    toExploreQ=Queue()\n",
    "    visited[startVertex]=True\n",
    "    toExploreQ.enqueue(startVertex) # enqueue the start vertex for later exploration\n",
    "\n",
    "    while (toExploreQ.is_empty()==False):\n",
    "\n",
    "        e=toExploreQ.dequeue()\n",
    "        for k in graph[e]:\n",
    "            if(visited[k]==False):\n",
    "                visited[k]=True\n",
    "                parent[k]=e\n",
    "                toExploreQ.enqueue(k)\n",
    "    \n",
    "    return (visited,parent)\n",
    "\n",
    "\n",
    "print(BFS(aList,3))\n",
    "\n",
    "    "
   ]
  },
  {
   "cell_type": "markdown",
   "metadata": {},
   "source": [
    "Thus the parent dictionary recorded the parent of each vertex now using this dictionary we can find the path between the two vertices inside the graph.\n",
    "\n",
    "lets code a `pathFinder(u,v)` function for this. Where `u` is the *initial vertex* and `v` is the *final vertex*.\n",
    "\n"
   ]
  },
  {
   "cell_type": "code",
   "execution_count": 17,
   "metadata": {},
   "outputs": [
    {
     "data": {
      "text/plain": [
       "'0 --> 1 --> 4'"
      ]
     },
     "execution_count": 17,
     "metadata": {},
     "output_type": "execute_result"
    }
   ],
   "source": [
    "# pathFinder function \n",
    "\n",
    "def pathFinder(graph,u,v):\n",
    "\n",
    "    visited,parent =BFS(graph,u)\n",
    "\n",
    "    if (visited[v]==True): # here we could also use the condition (parent[v] != -1)\n",
    "        k=v\n",
    "        path=[]\n",
    "        \n",
    "        while(parent[k]!=-1):\n",
    "            path.insert(0,str(k)) # we need to convert entries of vertices to string to satisfy the requirement of \"join\" method\n",
    "            k=parent[k]\n",
    "        \n",
    "        \n",
    "        path.insert(0,str(k))\n",
    "        path_output=\" --> \".join(path)\n",
    "        return path_output \n",
    "        \n",
    "    else:\n",
    "        return(f\" Vertex {v} is NOT-Reachable from {u}, in the given network.\")\n",
    "    \n",
    "\n",
    "pathFinder(aList,0,4)"
   ]
  },
  {
   "cell_type": "markdown",
   "metadata": {},
   "source": [
    "## Important points:\n",
    "\n",
    "- Notice that althogh BFS gave us this path , but this is not the 'unique Path'. It is just one of the path which BFS observed during the travel.\n",
    "\n",
    "- If we avoid the 'sorting' of the neighbour-lists of vertices indexed inside the Adjecency list of a graph, the BFS path between two points can be changed. Think why this could be possible.\n",
    "\n",
    "It is advised and a good practice to sort the list of neighbours in the Adjecency list.\n",
    "\n",
    "\n",
    "## Uncleared doubts\n",
    "\n",
    "There are several questions which remains:\n",
    "\n",
    "- is this path the shortest?\n",
    "- is this path the efficient?\n",
    "\n",
    "these questions will be discuused in later lectures.\n",
    "\n",
    "This was all for the part 2 of BFS . \n",
    "\n",
    "In Part 1 and Part 2 we have implemented the BFS using the 'visited' dictionary. In part 3 of BFS we will implement it using 'level' dictionary which will record in how many steps we reached a particular vertex, we will not use the visited dictionary to design BFS."
   ]
  },
  {
   "cell_type": "code",
   "execution_count": null,
   "metadata": {},
   "outputs": [],
   "source": []
  }
 ],
 "metadata": {
  "kernelspec": {
   "display_name": "base",
   "language": "python",
   "name": "python3"
  },
  "language_info": {
   "codemirror_mode": {
    "name": "ipython",
    "version": 3
   },
   "file_extension": ".py",
   "mimetype": "text/x-python",
   "name": "python",
   "nbconvert_exporter": "python",
   "pygments_lexer": "ipython3",
   "version": "3.11.5"
  }
 },
 "nbformat": 4,
 "nbformat_minor": 2
}
