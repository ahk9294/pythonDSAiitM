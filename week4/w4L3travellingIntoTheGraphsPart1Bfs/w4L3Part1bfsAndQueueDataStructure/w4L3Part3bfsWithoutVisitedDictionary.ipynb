{
 "cells": [
  {
   "cell_type": "markdown",
   "metadata": {},
   "source": [
    "# BFS without visited dictionary\n",
    "\n",
    "We will do the BFS without visited dictionary. A new dictionary `level` will be introduced which will record the number of steps required to reach that vertex from the sorce vertex.\n"
   ]
  },
  {
   "cell_type": "code",
   "execution_count": 8,
   "metadata": {},
   "outputs": [],
   "source": [
    "# Develop a Queue datastructure to implement the BFS\n",
    "\n",
    "class Queue:\n",
    "\n",
    "    def __init__(self):\n",
    "        self.queue=[]\n",
    "\n",
    "    def is_empty(self):\n",
    "        if len(self.queue)==0 :\n",
    "            return True\n",
    "        else:\n",
    "            return False\n",
    "        \n",
    "    def enqueue(self,vertex):\n",
    "        self.queue.append(vertex)\n",
    "    \n",
    "    def dequeue(self):\n",
    "        head=self.queue[0]\n",
    "        self.queue=self.queue[1:]\n",
    "        return head"
   ]
  },
  {
   "cell_type": "code",
   "execution_count": 9,
   "metadata": {},
   "outputs": [
    {
     "name": "stdout",
     "output_type": "stream",
     "text": [
      "{0: [1, 2], 1: [3, 4], 2: [3, 4], 3: [4], 4: []}\n"
     ]
    }
   ],
   "source": [
    "# suppose Graph is G(V,E)\n",
    "\n",
    "V = [0,1,2,3,4]\n",
    "E = [(0, 1), (0, 2), (1, 3), (1, 4), (2, 4), (2, 3), (3, 4)] \n",
    "\n",
    "# lets prepare the Adjecency list for it \n",
    "\n",
    "def adjecencyList(vertices,edges):\n",
    "\n",
    "    adjList={}\n",
    "\n",
    "    #initializing the dictionary \n",
    "    for i in vertices:\n",
    "        adjList[i]=[]\n",
    "\n",
    "    # populating the neighbours\n",
    "    for (i,j) in edges:\n",
    "        adjList[i].append(j)\n",
    "        \n",
    "    # sorting the vertices list\n",
    "    for i in V:\n",
    "        adjList[i].sort()\n",
    "    \n",
    "    return adjList\n",
    "\n",
    "aList=adjecencyList(V,E)\n",
    "\n",
    "print(aList)\n",
    "    "
   ]
  },
  {
   "cell_type": "markdown",
   "metadata": {},
   "source": [
    "Now lets write the BFS"
   ]
  },
  {
   "cell_type": "code",
   "execution_count": 11,
   "metadata": {},
   "outputs": [
    {
     "name": "stdout",
     "output_type": "stream",
     "text": [
      "({0: -1, 1: 0, 2: 0, 3: 1, 4: 1}, {0: 0, 1: 1, 2: 1, 3: 2, 4: 2})\n"
     ]
    }
   ],
   "source": [
    "def BFS(graph,startVertex):\n",
    "\n",
    "    level={}    # to record the distance of the vertices\n",
    "    parent={}   # to record the parent of the vertices\n",
    "\n",
    "    #initializing the dictionaries\n",
    "\n",
    "    for v in graph.keys():\n",
    "        level[v]=-1\n",
    "        parent[v]=-1\n",
    "\n",
    "    toExploreQ=Queue()\n",
    "\n",
    "    # starting BFS\n",
    "    level[startVertex]=0\n",
    "    toExploreQ.enqueue(startVertex) # enque the start vertex for later exploration \n",
    "\n",
    "    while (toExploreQ.is_empty()==False): # run until explore que is empty\n",
    "\n",
    "        head=toExploreQ.dequeue() # take out the head vertex for exploration \n",
    "\n",
    "        # now explore the vertex\n",
    "        for v in graph[head]:\n",
    "            if(level[v]==-1):\n",
    "                level[v]=level[head]+1\n",
    "                parent[v]=head\n",
    "                toExploreQ.enqueue(v)\n",
    "        \n",
    "    return (parent,level)\n",
    "\n",
    "print(BFS(aList,0))\n"
   ]
  },
  {
   "cell_type": "markdown",
   "metadata": {},
   "source": [
    "In this way we recorded the distance of a vertex from another vertex.\n",
    "\n",
    "Now lets write the `pathFinder(u,v)` again. This time we will calculate the distance also."
   ]
  },
  {
   "cell_type": "code",
   "execution_count": 14,
   "metadata": {},
   "outputs": [
    {
     "name": "stdout",
     "output_type": "stream",
     "text": [
      "Path is : 0 --> 1 --> 4. Distination 4 is away from source 0 by 2 steps.\n"
     ]
    }
   ],
   "source": [
    "# Path Finder\n",
    "\n",
    "def pathFinder(graph,u,v):\n",
    "    \n",
    "    parent,level=BFS(graph,u)\n",
    "    path=[]\n",
    "    if (parent[v]!=-1):\n",
    "        k=v\n",
    "        while(parent[k]!=-1):\n",
    "            path.insert(0,str(k))\n",
    "            k=parent[k]\n",
    "        \n",
    "        path.insert(0,str(k))\n",
    "        path_output= \" --> \".join(path)\n",
    "        return (f\"Path is : {path_output}. Distination {v} is away from source {u} by {level[v]} steps.\" )\n",
    "    \n",
    "    else:\n",
    "        return(f\" Vertex {v} is Not Reachable for vertex {u} in the given Network\")\n",
    "    \n",
    "print(pathFinder(aList,0,4))"
   ]
  },
  {
   "cell_type": "markdown",
   "metadata": {},
   "source": [
    "This was part 3 , Here we noticed how BFS is performed with `level` dictionary inspite of the visited dictionary. `level` dictionary is more informative in sense it gives the information about how many steps every reachable vertex is away from the source vertex.\n",
    "\n",
    "Now we will move to the next lecture where we will learn another graph traversal technique called **DFS**. Once both BFS and DFS are discussed we will compare both techniques."
   ]
  }
 ],
 "metadata": {
  "kernelspec": {
   "display_name": "base",
   "language": "python",
   "name": "python3"
  },
  "language_info": {
   "codemirror_mode": {
    "name": "ipython",
    "version": 3
   },
   "file_extension": ".py",
   "mimetype": "text/x-python",
   "name": "python",
   "nbconvert_exporter": "python",
   "pygments_lexer": "ipython3",
   "version": "3.11.5"
  }
 },
 "nbformat": 4,
 "nbformat_minor": 2
}
