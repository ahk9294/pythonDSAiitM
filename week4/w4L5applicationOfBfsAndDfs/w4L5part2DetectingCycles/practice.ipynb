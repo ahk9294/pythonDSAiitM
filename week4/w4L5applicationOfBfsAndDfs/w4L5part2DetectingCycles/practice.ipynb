{
 "cells": [
  {
   "cell_type": "markdown",
   "metadata": {},
   "source": [
    "DFS pre- post numbering"
   ]
  },
  {
   "cell_type": "code",
   "execution_count": 1,
   "metadata": {},
   "outputs": [
    {
     "name": "stdout",
     "output_type": "stream",
     "text": [
      "{0: [1, 2, 5], 1: [4], 2: [3], 3: [6], 4: [5, 6, 7], 5: [7], 6: [7], 7: []}\n"
     ]
    }
   ],
   "source": [
    "# Suppose the given graph is G(V,E)\n",
    "\n",
    "V=[0,1,2,3,4,5,6,7]\n",
    "E=[(0, 1), (0, 2), (0, 5), (1, 4), (2, 3), (3, 6), (4, 5), (4, 7), (4, 6), (5, 7), (6, 7)]\n",
    "\n",
    "# Preparing Adjecency List \n",
    "\n",
    "def adjecencyList(vertices,edges):\n",
    "\n",
    "    #initiallise the adjecency List\n",
    "    adjList={}\n",
    "\n",
    "    for v in vertices:\n",
    "        adjList[v]=[]\n",
    "\n",
    "    #populating the graph with edges\n",
    "\n",
    "    for i,j in edges:\n",
    "        adjList[i].append(j)\n",
    "\n",
    "    # sorting the adjecencyList\n",
    "\n",
    "    for v in vertices:\n",
    "        adjList[v].sort()\n",
    "    \n",
    "    #return the final list\n",
    "\n",
    "    return adjList\n",
    "\n",
    "aList= adjecencyList(V,E)\n",
    "print(aList)\n"
   ]
  },
  {
   "cell_type": "markdown",
   "metadata": {},
   "source": [
    "now lets plan the DFS through it and apply the pre-post numbering "
   ]
  },
  {
   "cell_type": "code",
   "execution_count": 9,
   "metadata": {},
   "outputs": [
    {
     "name": "stdout",
     "output_type": "stream",
     "text": [
      "Visited : {0: True, 1: True, 2: True, 3: True, 4: True, 5: True, 6: True, 7: True} \n",
      " Pre : {0: 0, 1: 1, 2: 11, 3: 12, 4: 2, 5: 3, 6: 7, 7: 4} \n",
      " Post : {0: 15, 1: 10, 2: 14, 3: 13, 4: 9, 5: 6, 6: 8, 7: 5} \n"
     ]
    }
   ],
   "source": [
    "def DfsRecurPrePost(graph,startVertex):\n",
    "\n",
    "    #initializing the required dictionaries\n",
    "    visited={}\n",
    "    pre={}\n",
    "    post={}\n",
    "\n",
    "    for v in graph.keys():\n",
    "        visited[v]=False\n",
    "        pre[v]=-1\n",
    "        post[v]=-1\n",
    "\n",
    "    #initialize the counter\n",
    "\n",
    "    counter=[-1]\n",
    "\n",
    "    def DFS_main(vertex):\n",
    "\n",
    "        visited[vertex]=True\n",
    "        counter[0] = counter[0]+1\n",
    "        pre[vertex]=counter[0]\n",
    "\n",
    "        for n in graph[vertex]:\n",
    "            if(visited[n]==False):\n",
    "                DFS_main(n)\n",
    "        \n",
    "        counter[0] +=1\n",
    "        post[vertex]=counter[0]\n",
    "\n",
    "        return\n",
    "    \n",
    "    DFS_main(startVertex)\n",
    "\n",
    "    return (f\"Visited : {visited} \\n Pre : {pre} \\n Post : {post} \")\n",
    "\n",
    "print(DfsRecurPrePost(aList,0))\n",
    "    \n",
    "\n",
    "        \n"
   ]
  },
  {
   "cell_type": "code",
   "execution_count": null,
   "metadata": {},
   "outputs": [],
   "source": []
  }
 ],
 "metadata": {
  "kernelspec": {
   "display_name": "base",
   "language": "python",
   "name": "python3"
  },
  "language_info": {
   "codemirror_mode": {
    "name": "ipython",
    "version": 3
   },
   "file_extension": ".py",
   "mimetype": "text/x-python",
   "name": "python",
   "nbconvert_exporter": "python",
   "pygments_lexer": "ipython3",
   "version": "3.11.5"
  }
 },
 "nbformat": 4,
 "nbformat_minor": 2
}
