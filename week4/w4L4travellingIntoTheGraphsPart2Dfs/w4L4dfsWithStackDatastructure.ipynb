{
 "cells": [
  {
   "cell_type": "markdown",
   "metadata": {},
   "source": [
    "# DFS and Stack Data Structure\n",
    "\n",
    "Other than BFS , DFS is another way of travelling into the graphs.\n",
    "\n",
    "In DFS :\n",
    "\n",
    "- we start traveling from a `start vertex`.\n",
    "- explore its neighbours.\n",
    "- catch the first unvisited neighbour and start exploring it further without worrying about the other neighbours of the start vertex. (means we ***suspends*** the exploring of this vertex and move to another one). The vertex whose exploration is *suspended* is putted into the stack , to reminds us that there are still its neighbours that remains unvisited. \n",
    "\n",
    "- we go on doing this and keep adding the suspended vertices in the stack.\n",
    "- once we reach a point which have no explored neighbours we are stuck there.\n",
    "\n",
    "This approach will take us *as deep as possible* into the graph along a path. Thus this method is called \"Depth-First\".\n",
    "\n",
    "- then we take out the last suspended member from the stack and explore it further.\n",
    "- we go on doing this untill whole stack becomes empty.\n",
    "\n",
    "\n",
    "To implement the philosophy of DFS we need a **L**ast-**I**n-**F**irst-**O**ut (**LIFO**) style data structure that we call the **stack** datastructure.\n",
    "\n",
    "## The Stack Data structure\n",
    "\n",
    "Its a data structure which \n",
    "The stack data structure :"
   ]
  },
  {
   "cell_type": "code",
   "execution_count": 4,
   "metadata": {},
   "outputs": [],
   "source": [
    "# The stack datastructure\n",
    "\n",
    "class Stack:\n",
    "\n",
    "    def __init__(self):  # initialize the self object for the class instance\n",
    "        self.stack=[]    # write instance variable on the self object\n",
    "\n",
    "    def is_empty(self):  # checks if the stack is empty or not.\n",
    "        if (len(self.stack)==0):\n",
    "            return True\n",
    "        else:\n",
    "            return False\n",
    "    \n",
    "    def Push(self,vertex):  # append a vertex in the stack \n",
    "        self.stack.append(vertex)\n",
    "    \n",
    "    def Pop(self):          # tear out the last appended vertex from stack, leaving side effect on stack and returning the teared out vertex\n",
    "        if (self.is_empty()==False):\n",
    "            return self.stack.pop() # notice here .pop() is an python inbuilt function which tears out the last value in list.\n",
    "        else:\n",
    "            return None\n",
    "        \n",
    "    def Tail(self):         # return the last appended vertex to the stack without changing the orignal stack\n",
    "\n",
    "        if (self.is_empty()==False):\n",
    "            return self.stack[-1]\n",
    "        else:\n",
    "            return None\n",
    "    \n",
    "    def Head(self):         # return the \"first-in\" member of the stack without changing the orignal stack\n",
    "        if(self.is_empty()==False):\n",
    "            return self.stack[0]\n",
    "        else:\n",
    "            None\n",
    "        \n",
    "    def __str__(self):\n",
    "        return (str(self.stack))\n",
    "        "
   ]
  },
  {
   "cell_type": "markdown",
   "metadata": {},
   "source": [
    "Once stack is maintained we can began DFS .\n",
    "\n",
    "But first lets prepare the graph."
   ]
  },
  {
   "cell_type": "code",
   "execution_count": 5,
   "metadata": {},
   "outputs": [
    {
     "name": "stdout",
     "output_type": "stream",
     "text": [
      "{0: [1, 2], 1: [3, 4], 2: [4, 3], 3: [4], 4: []}\n"
     ]
    }
   ],
   "source": [
    "# suppose the graph is  G(V,E)\n",
    "\n",
    "V = [0,1,2,3,4]\n",
    "E = [(0, 1), (0, 2), (1, 3), (1, 4), (2, 4), (2, 3), (3, 4)] \n",
    "\n",
    "# Preparing the Adjecency list of this matrix.\n",
    "\n",
    "def adjecencyList(vertices,edges):\n",
    "\n",
    "    adjList={}\n",
    "\n",
    "    #initializing the list \n",
    "    for i in vertices:\n",
    "        adjList[i]=[]\n",
    "\n",
    "    #populating the edges\n",
    "    \n",
    "    for k,j in edges:\n",
    "        adjList[k].append(j)\n",
    "\n",
    "    #sorting the adjecency lists\n",
    "    #for key in adjList.keys():\n",
    "      #  adjList[key].sort()\n",
    "    \n",
    "    return adjList\n",
    "\n",
    "aList=adjecencyList(V,E)\n",
    "\n",
    "print(aList)\n"
   ]
  },
  {
   "cell_type": "markdown",
   "metadata": {},
   "source": [
    "This graph can be visualize as: ![graph](./sampleGraph.jpg)\n",
    "\n",
    "\n",
    "Now lets design the DFS"
   ]
  },
  {
   "cell_type": "code",
   "execution_count": 6,
   "metadata": {},
   "outputs": [
    {
     "name": "stdout",
     "output_type": "stream",
     "text": [
      "{0: False, 1: False, 2: True, 3: True, 4: True}\n"
     ]
    }
   ],
   "source": [
    "# DFS with Adjecency List using Stack Datastructure.\n",
    "\n",
    "def DFS_aList(graph,startVertex):\n",
    "\n",
    "    visited={}\n",
    "\n",
    "    # initialize the visited\n",
    "    for v in graph.keys():\n",
    "        visited[v]=False\n",
    "\n",
    "    # initialize the stack\n",
    "    suspended=Stack()\n",
    "    suspended.Push(startVertex) # Put the start vertex in stack\n",
    "\n",
    "    #start exploring from startVertex\n",
    "    \n",
    "    while(suspended.is_empty()==False): # go on exploring untill the stack becomes empty\n",
    "\n",
    "        e=suspended.Pop()    # take out the last member of stack to explore\n",
    "\n",
    "        if(visited[e]==False):   #if it is not visited, visit it.\n",
    "            visited[e]=True\n",
    "\n",
    "        for i in graph[e]:       # look at its neighbours list in the graph(adjecency list)\n",
    "            if (visited[i]== False): # if any neighbour is not visited\n",
    "                suspended.Push(i) # add them in the stack to visit it later\n",
    "\n",
    "    \n",
    "    return visited  # return the visited dictionary\n",
    "\n",
    "print(DFS_aList(aList,2))\n",
    "    "
   ]
  },
  {
   "cell_type": "markdown",
   "metadata": {},
   "source": [
    "Visualize this output in the given graph. ![graph](./sampleGraph.jpg)\n",
    "\n",
    "\n",
    "**(( ? )) Points to be seen later** \n",
    "\n",
    "- I personally found out that *storing the parent information* is difficult in case of Stack version of DFS.\n",
    "\n",
    "- DFS as a whole is not good for recording paths travelled.\n",
    "\n",
    "\n"
   ]
  },
  {
   "cell_type": "markdown",
   "metadata": {},
   "source": []
  }
 ],
 "metadata": {
  "kernelspec": {
   "display_name": "base",
   "language": "python",
   "name": "python3"
  },
  "language_info": {
   "codemirror_mode": {
    "name": "ipython",
    "version": 3
   },
   "file_extension": ".py",
   "mimetype": "text/x-python",
   "name": "python",
   "nbconvert_exporter": "python",
   "pygments_lexer": "ipython3",
   "version": "3.11.5"
  }
 },
 "nbformat": 4,
 "nbformat_minor": 2
}
