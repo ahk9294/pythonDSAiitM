{
 "cells": [
  {
   "cell_type": "markdown",
   "metadata": {},
   "source": [
    "# DFS without Stack Datastructure\n",
    "\n",
    "To fullfill the philosophy of Depth-First-Search we need to develop a new custome data structure called **Stack**. A Stack is **L**ast-**I**n-**F**irst-**O**ut (**LIFO**). That is the member that is added at the end will be taken out first.\n",
    "\n",
    "But it turns out the same philosophy can be fulfilled by the **Recursion** process - as recursion *implicitly* maintains a stack.\n",
    "\n",
    "Lets try to code the DFS technique using recursion.\n",
    "\n",
    "First prepare the graph."
   ]
  },
  {
   "cell_type": "code",
   "execution_count": 15,
   "metadata": {},
   "outputs": [
    {
     "name": "stdout",
     "output_type": "stream",
     "text": [
      "{0: [1, 2], 1: [3, 4], 2: [3, 4], 3: [4], 4: []}\n"
     ]
    }
   ],
   "source": [
    "# Suppose the graph is G(V,E)\n",
    "\n",
    "V = [0,1,2,3,4]\n",
    "E = [(0, 1), (0, 2), (1, 3), (1, 4), (2, 4), (2, 3), (3, 4)] \n",
    "\n",
    "# Let make an adjecency list out of it.\n",
    "\n",
    "def adjecencyList(vertices, edges):\n",
    "\n",
    "    # initiate the adjecency List \n",
    "    adjList={}\n",
    "    for i in vertices:\n",
    "        adjList[i]=[]\n",
    "    \n",
    "    # populate it with edges   \n",
    "    for (i,j) in edges:\n",
    "        adjList[i].append(j)\n",
    "\n",
    "    # sort the neighbours of each vertex\n",
    "    \n",
    "    for v in V:\n",
    "        adjList[v].sort()\n",
    "\n",
    "    # return the finalized list\n",
    "    return adjList\n",
    "\n",
    "aList=adjecencyList(V,E)\n",
    "\n",
    "print(aList)\n",
    "\n",
    "\n"
   ]
  },
  {
   "cell_type": "markdown",
   "metadata": {},
   "source": [
    "Once the Graph is in place lets now travel in it using DFS and find out where all we can reach if start from a vertex(`startVertex`). \n",
    "\n",
    "This Graph can be visualized as :\n",
    "![graph](./sampleGraph.jpg)\n",
    "\n",
    "This time we will try to code the DFS using **Recursion** "
   ]
  },
  {
   "cell_type": "code",
   "execution_count": 16,
   "metadata": {},
   "outputs": [
    {
     "name": "stdout",
     "output_type": "stream",
     "text": [
      "({0: False, 1: False, 2: True, 3: True, 4: True}, {0: -1, 1: -1, 2: None, 3: 2, 4: 3})\n"
     ]
    }
   ],
   "source": [
    "# DFS with Adjecency List Using Recursion.\n",
    "\n",
    "# initialize the visited and parent distionaries outside the main DFS body as we are going to call it multiple time recursively.\n",
    "\n",
    "def DFS_adjList_recursion(graph,startVertex):\n",
    "    \n",
    "    def DFS_init(graph,startVertex):\n",
    "        (visited,parent)=({},{})\n",
    "\n",
    "        for v in graph.keys():\n",
    "            visited[v]= False\n",
    "            parent[v]= -1\n",
    "\n",
    "        visited[startVertex]= True\n",
    "        parent[startVertex]= None\n",
    "\n",
    "        return (visited,parent)\n",
    "\n",
    "    (visited, parent) = DFS_init(graph,startVertex)\n",
    "\n",
    "    def DFS_main(visited,parent,s):\n",
    "        \n",
    "        for v in graph[s]:\n",
    "            if (visited[v]==False):\n",
    "                visited[v]=True\n",
    "                parent[v]=s\n",
    "                DFS_main(visited,parent,v)\n",
    "        return \n",
    "    \n",
    "    DFS_main(visited,parent,startVertex)\n",
    "\n",
    "    return (visited, parent)\n",
    "\n",
    "print(DFS_adjList_recursion(aList,2))\n"
   ]
  },
  {
   "cell_type": "markdown",
   "metadata": {},
   "source": [
    "code seems to work fine we are getting the visited an parent dictionary. \n",
    "\n",
    "One special point to notice here is that we are keeping record of *parent* along with the DFS, which was difficult in stack implementation of the DFS. Thus the recursion implementation of DFS seems to be more useful. \n",
    "\n",
    "Infact it is not wrong to say that as per the philosophy of the DFS , *recursion* is the the most natural way to implement DFS.\n",
    "\n",
    "Now let us point out another interesting fact.\n",
    "\n",
    "## DFS on unsorted garph\n",
    "\n",
    "The Adjecency list of graph that we supplied in the DFS function in above code contains the 'sorted' list of vertices and after doing DFS through it, the parents of vertex 3 and vertex 4 are 2 and 3 respectively.\n",
    "\n",
    "But lets now avoid the sorting of neighbour list and see that is the parent of 3 and 4 remains same after DFS? \n"
   ]
  },
  {
   "cell_type": "code",
   "execution_count": 18,
   "metadata": {},
   "outputs": [
    {
     "name": "stdout",
     "output_type": "stream",
     "text": [
      "{0: [1, 2], 1: [3, 4], 2: [4, 3], 3: [4], 4: []}\n"
     ]
    }
   ],
   "source": [
    "# Making an Unsorted Adjecency List \n",
    "\n",
    "V = [0,1,2,3,4]\n",
    "E = [(0, 1), (0, 2), (1, 3), (1, 4), (2, 4), (2, 3), (3, 4)] \n",
    "\n",
    "# Let make an adjecency list out of it.\n",
    "\n",
    "def adjecencyListUnsorted(vertices, edges):\n",
    "\n",
    "    # initiate the adjecency List \n",
    "    adjList={}\n",
    "    for i in vertices:\n",
    "        adjList[i]=[]\n",
    "    \n",
    "    # populate it with edges   \n",
    "    for (i,j) in edges:\n",
    "        adjList[i].append(j)\n",
    "\n",
    "    # sort the neighbours of each vertex\n",
    "    # Sorting is suppresed\n",
    "\n",
    "    #for v in V:               \n",
    "        #adjList[v].sort()\n",
    "\n",
    "\n",
    "    # return the finalized list\n",
    "    return adjList\n",
    "\n",
    "aListUnsorted=adjecencyListUnsorted(V,E)\n",
    "\n",
    "print(aListUnsorted)"
   ]
  },
  {
   "cell_type": "markdown",
   "metadata": {},
   "source": [
    "Now lets us do the **DFS** on it "
   ]
  },
  {
   "cell_type": "code",
   "execution_count": 20,
   "metadata": {},
   "outputs": [
    {
     "name": "stdout",
     "output_type": "stream",
     "text": [
      "({0: False, 1: False, 2: True, 3: True, 4: True}, {0: -1, 1: -1, 2: None, 3: 2, 4: 2})\n"
     ]
    }
   ],
   "source": [
    "print(DFS_adjList_recursion(aListUnsorted,2))"
   ]
  },
  {
   "cell_type": "markdown",
   "metadata": {},
   "source": [
    "Notice that the parent of 4 changed!!...Look into the physical picture of graph, apply the philosophy of DFS and try to undersatnd what might be the reason of it? **This behaviour can also be observed in BFS.**\n",
    "\n",
    "Remember unlike BFS, the path discovered by the DFS 'may not' be the *shortest in terms of number of steps*.\n",
    "\n",
    "Lets now discuss the complexity of the DFS.\n",
    "\n",
    "## Complexity of DFS\n",
    "\n",
    "Similar to BFS..in DFS the complexity :\n",
    "\n",
    "- in case of Adgecency Matrix is $O(n^2)$\n",
    "- in case of Adjecency List is $O(m+n)$\n",
    "\n",
    "(( Prof. Madhvan )) - For recursion implementation of DFS, in addition to above complexity, there will be an extra cost for recursion but we are not going to worry about it for now.\n",
    "\n",
    "Lets now discuss the summary of BFS and DFS\n",
    "\n",
    "## Summary\n",
    "\n",
    "- BFS and DFS are two strategies to travell into the graph.\n",
    "- The path given out of graph through BFS or DFS are not unique. \n",
    "- Both work efficienctly with Adjecency list representation of graph.\n",
    "- BFS finds the *shortest-path* in number of steps. But this is not the case in DFS.\n",
    "\n",
    "\n",
    "**(( Prof Madhvan ))** So this might be the question that - inspite of recurssion and other complicated things we did in DSF, If we cant even get the shortest path, then whats the point in using DFS? ...Well it turns out that for other things DFS is important.\n",
    "\n",
    "We will see in later lectures that if we somehow record the order in which DFS 'reach' and 'leaves' the vertex, we can get a whole lot of information about the 'structure' of graph.--> Thus ultimately we will find out that DFS becomes a 'primary-way' of travelling into the graph.\n"
   ]
  },
  {
   "cell_type": "markdown",
   "metadata": {},
   "source": []
  }
 ],
 "metadata": {
  "kernelspec": {
   "display_name": "base",
   "language": "python",
   "name": "python3"
  },
  "language_info": {
   "codemirror_mode": {
    "name": "ipython",
    "version": 3
   },
   "file_extension": ".py",
   "mimetype": "text/x-python",
   "name": "python",
   "nbconvert_exporter": "python",
   "pygments_lexer": "ipython3",
   "version": "3.11.5"
  }
 },
 "nbformat": 4,
 "nbformat_minor": 2
}
