{
 "cells": [
  {
   "cell_type": "markdown",
   "metadata": {},
   "source": [
    "# Week4 : Grpa 2\n",
    "\n",
    "<hr>\n",
    "\n",
    "Consider a system of `n` water tanks on a hill, connected via `m`pipes. Water can flow through these pipes only in one direction. We have a source of water that can be connected to only one of these water tanks. We need to find if there exists a master tank such that all the tanks in this group can be filled by connecting the water source to this master tank. The tanks are numbered from `1` to `n`.\n",
    "\n",
    "Write a Python function `findMasterTank(tanks, pipes)` that accepts arguments `tanks` which is a list of tanks, and `pipes` which is a list of tuples that represents connectivity through pipes, between tanks. Each tuple `(i,j)` in `pipes` represents a pipe such that, water can flow from tank `i` to tank `j` but not vice versa. Your function should find a master tank and return the number representing it, else should return `0` if no master tank exists in the system. If there are more than one master tanks return any one of them. Try to implement an algorithm that executes in linear time (O(n + m)).\n",
    "\n",
    "For e.g., In the graph `GT` below representing pipe connectivity between 4 water tanks, tank `1` is the only master tank. For this your function should return `1`.\n",
    "\n",
    "![](./images/w4Grpa2EgImage1.png)\n",
    "![](./images/w4Grpa2EgImage2.png)"
   ]
  },
  {
   "cell_type": "markdown",
   "metadata": {},
   "source": [
    "## Chatgpt Responce \n",
    "\n",
    "<hr>\n",
    "\n",
    "To find the master tank in linear time, we can use a depth-first search (DFS) algorithm. We'll start from the source tank (the tank connected to the water source) and explore all the tanks reachable from it. If we can reach all the tanks in the system from the source tank, then it is a master tank.\n",
    "\n",
    "Here's the Python function to implement this algorithm:\n"
   ]
  },
  {
   "cell_type": "code",
   "execution_count": null,
   "metadata": {},
   "outputs": [],
   "source": [
    "def dfs(tank, graph, visited):\n",
    "    visited[tank] = True\n",
    "    for neighbor in graph[tank]:\n",
    "        if not visited[neighbor]:\n",
    "            dfs(neighbor, graph, visited)\n",
    "\n",
    "def findMasterTank(tanks, pipes):\n",
    "    # Create a graph representation using adjacency lists\n",
    "    graph = {tank: [] for tank in tanks}\n",
    "    for pipe in pipes:\n",
    "        graph[pipe[0]].append(pipe[1])\n",
    "\n",
    "    # Initialize visited array\n",
    "    visited = {tank: False for tank in tanks}\n",
    "\n",
    "    # Find the source tank\n",
    "    source = None\n",
    "    for tank in tanks:\n",
    "        if not any(pipe[1] == tank for pipe in pipes):\n",
    "            source = tank\n",
    "            break\n",
    "\n",
    "    # Perform DFS from the source tank\n",
    "    dfs(source, graph, visited)\n",
    "\n",
    "    # Check if all tanks are reachable from the source tank\n",
    "    for tank in tanks:\n",
    "        if not visited[tank]:\n",
    "            return 0  # No master tank found\n",
    "\n",
    "    # Return the source tank as the master tank\n",
    "    return source\n",
    "\n",
    "# Example usage:\n",
    "tanks = [1, 2, 3, 4, 5]\n",
    "pipes = [(1, 2), (2, 3), (3, 4), (4, 5)]\n",
    "print(findMasterTank(tanks, pipes))  # Output: 1\n"
   ]
  },
  {
   "cell_type": "markdown",
   "metadata": {},
   "source": [
    "This function first constructs a graph from the given tanks and pipes, then performs a DFS starting from the source tank to explore all reachable tanks. If all tanks are reachable, it returns the source tank as the master tank; otherwise, it returns 0 indicating no master tank exists. The time complexity of this algorithm is O(n + m), where n is the number of tanks and m is the number of pipes.\n",
    "\n",
    "\n",
    "**Testing**\n",
    "\n",
    "All private and public cases cleared."
   ]
  }
 ],
 "metadata": {
  "language_info": {
   "name": "python"
  }
 },
 "nbformat": 4,
 "nbformat_minor": 2
}
