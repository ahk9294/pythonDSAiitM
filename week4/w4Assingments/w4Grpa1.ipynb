{
 "cells": [
  {
   "cell_type": "markdown",
   "metadata": {},
   "source": [
    "# Week 4 : Grpa 1\n",
    "\n",
    "<hr>\n",
    "\n",
    "Consider a social network of friends/relatives, most of whom are closely connected. Visualize this as a graph where each vertex denotes a person, and if two people know each other there is an edge between the vertices denoting them. If persons `x` and `y` know each other directly, then there is an edge connecting `x` and `y` and level of connectivity between them is 1. If person `x` is a friend of person `y` and person `y` is friend of person `z`, but `x` is not a friend of `z`, then the level of connectivity between `x` and `z` is 2, and so on. The connectivity between people is always two way, i.e. if x directly knows y, then y also knows x directly.\n",
    "\n",
    "Complete the Python function `findConnectionLevel(n, Gmat, Px, Py)` that takes 4 arguments, number of persons n (n persons numbered from 0 to n-1), Gmat an adjacency matrix representation of n persons and their connections (if `Gmat[x][y] = 1`, then person `x` and `y` are directly connected), two persons `Px` and `Py` both numbers, and returns the minimum level of connectivity between `Px` and `Py`. Return `0` if `Px` and `Py` are not connected through anybody in the group.\n",
    "\n",
    "For example the graph below representing the 7 persons from 0 to 6 and their connectivity.\n",
    "\n",
    "![w1Grpa1EgImage1](./images/w4Grpa1EgImage1.png)\n",
    "![w1Grpa1EgImage2](./images/w4Grpa1EgImage2.png)\n"
   ]
  },
  {
   "cell_type": "markdown",
   "metadata": {},
   "source": [
    "## Github copilot responce\n",
    "\n",
    "To implement the `findConnectionLevel` function, you can follow these steps:\n",
    "\n",
    "1. Define the function `findConnectionLevel` with four parameters: `n`, `Gmat`, `Px`, and `Py`. `n` represents the number of persons, `Gmat` is the adjacency matrix representation of the connections, and `Px` and `Py` are the two persons for which we want to find the minimum level of connectivity.\n",
    "\n",
    "2. Initialize a queue to perform a breadth-first search (BFS) traversal of the graph. This queue will store the vertices (persons) to be visited.\n",
    "\n",
    "3. Create a visited array to keep track of the persons that have been visited during the BFS traversal. Initialize all elements of the visited array to `False`.\n",
    "\n",
    "4. Create a level array to store the level of connectivity for each person. Initialize all elements of the level array to `-1`.\n",
    "\n",
    "5. Enqueue the starting person `Px` into the queue and mark them as visited by setting `visited[Px]` to `True`. Set `level[Px]` to `0` since the level of connectivity for the starting person is `0`.\n",
    "\n",
    "6. Start a while loop that continues until the queue is empty.\n",
    "\n",
    "7. Inside the loop, dequeue a person `current` from the queue.\n",
    "\n",
    "8. Iterate over all the persons `i` from `0` to `n-1` and check if `Gmat[current][i]` is `1` (indicating a direct connection between `current` and `i`).\n",
    "\n",
    "9. If `i` is not visited, enqueue `i` into the queue, mark `i` as visited, and set `level[i]` to `level[current] + 1`.\n",
    "\n",
    "10. Check if the dequeued person is `Py`. If it is, return the level of connectivity stored in `level[Py]`.\n",
    "\n",
    "11. If the while loop completes without finding `Py`, it means that `Px` and `Py` are not connected through anybody in the group. In this case, return `0`.\n",
    "\n",
    "Here's an example implementation of the `findConnectionLevel` function in Python:\n",
    "\n"
   ]
  },
  {
   "cell_type": "code",
   "execution_count": null,
   "metadata": {},
   "outputs": [],
   "source": [
    "from collections import deque\n",
    "\n",
    "def findConnectionLevel(n, Gmat, Px, Py):\n",
    "    queue = deque()\n",
    "    visited = [False] * n\n",
    "    level = [-1] * n\n",
    "\n",
    "    queue.append(Px)\n",
    "    visited[Px] = True\n",
    "    level[Px] = 0\n",
    "\n",
    "    while queue:\n",
    "        current = queue.popleft()\n",
    "\n",
    "        for i in range(n):\n",
    "            if Gmat[current][i] == 1 and not visited[i]:\n",
    "                queue.append(i)\n",
    "                visited[i] = True\n",
    "                level[i] = level[current] + 1\n",
    "\n",
    "                if i == Py:\n",
    "                    return level[Py]\n",
    "\n",
    "    return 0"
   ]
  },
  {
   "cell_type": "markdown",
   "metadata": {},
   "source": [
    "**Review** : Code passed all the private and public tests."
   ]
  }
 ],
 "metadata": {
  "language_info": {
   "name": "python"
  }
 },
 "nbformat": 4,
 "nbformat_minor": 2
}
