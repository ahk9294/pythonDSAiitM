{
 "cells": [
  {
   "cell_type": "markdown",
   "metadata": {},
   "source": [
    "# Different ways of representing graphs in Python.\n",
    "\n",
    "A **graph** is a collection of two things --- **Vertices** and the *relation* between them -- **Edges**\n",
    "\n",
    "We are given a graph **G(V,E)**. \n",
    "\n",
    "Where V -> list of vertices and E -> list of Edges.\n",
    "\n",
    "Let V = [0,1,2,3,4]\n",
    "\n",
    "It is convenient and preferred to represent the vertices using **numbers** because it then become easy to represent the graph in programming languages.  (Technically it is allowed that vertices can be characters or strings. But with non integers the graphs are tricky and challenging  to implement and then work with in programming languages)\n",
    "\n",
    "E = [(0, 1), (0, 2), (1, 3), (1, 4), (2, 4), (2, 3), (3, 4)] \n",
    "\n",
    "Notice a single edge is represented by a tuple (i,j) which means there is an edge **from** vertex i **to** vertex j.\n",
    "\n",
    "Our task is to represent this graph in python in different ways. \n",
    "\n",
    "There are two popular ways of representing the graphs in programming languages - **Adjecency Matrix** and **Adjecency List**.\n",
    "\n",
    "- Adjecency matrix can be created\n",
    "    - using *python lists* or.\n",
    "    - using *numpy 2-D arrays* data structures.\n",
    "\n",
    "- Adjecency list can be created\n",
    "    - using *python lists* or.\n",
    "    - using *python Dictionaries* data structures.\n"
   ]
  },
  {
   "cell_type": "markdown",
   "metadata": {},
   "source": [
    "## Adjecency Matrix Representaion \n",
    "\n",
    "A matrix is implimented in programming language as 'List' of 'lists'. Or collection of rows.\n",
    "\n",
    "### Creating Adjecency Matrix Using Python List \n",
    "\n",
    "If we are given the V and E, the Adjecency Matrix of graph can be implemented using normal python lists as follows:\n"
   ]
  },
  {
   "cell_type": "code",
   "execution_count": 19,
   "metadata": {},
   "outputs": [
    {
     "name": "stdout",
     "output_type": "stream",
     "text": [
      "[[0, 1, 1, 0, 0], [0, 0, 0, 1, 1], [0, 0, 0, 1, 1], [0, 0, 0, 0, 1], [0, 0, 0, 0, 0]]\n",
      "<class 'list'>\n"
     ]
    }
   ],
   "source": [
    "# Adjecency matrix representation of graph G(V,E) using python lists.\n",
    "V = [0,1,2,3,4]\n",
    "E = [(0, 1), (0, 2), (1, 3), (1, 4), (2, 4), (2, 3), (3, 4)]\n",
    "def aMat1(V,E):\n",
    "    (rows,cols) = (len(V),len(V))\n",
    "    mat=[]\n",
    "    # initializing the zero matrix\n",
    "    for i in range(rows):\n",
    "        mat.append([])\n",
    "        for j in range(cols):\n",
    "            mat[i].append(0)\n",
    "    # polpulating the zero matrix with edges\n",
    "    for i,j in E:\n",
    "        mat[i][j]=1\n",
    "\n",
    "    return mat \n",
    "\n",
    "G=aMat1(V,E)\n",
    "print(G)\n",
    "print(type(G))\n",
    "      \n"
   ]
  },
  {
   "cell_type": "markdown",
   "metadata": {},
   "source": [
    "### Creating Adjecency Matrix Using Numpy 2D array.\n",
    "\n",
    "List representation of matrix have some disadvantages in terms of providing the *random access* to its entries.\n",
    "Thus it is preferred to use the **Numpy arrays** to construct the the Adjecency matrix of graph. This representaion provides **random access** to the entries inside it.\n",
    "\n",
    "**numpy module** provides the facility to create the Matrix directly without loops and that too in different ways, two of them are :\n",
    "\n",
    "- using **numpy.array()** (with *list comprehension*).\n",
    "- using **numpy.zeros()** (prefered)\n"
   ]
  },
  {
   "cell_type": "code",
   "execution_count": 18,
   "metadata": {},
   "outputs": [
    {
     "name": "stdout",
     "output_type": "stream",
     "text": [
      "[[0 1 1 0 0]\n",
      " [0 0 0 1 1]\n",
      " [0 0 0 1 1]\n",
      " [0 0 0 0 1]\n",
      " [0 0 0 0 0]]\n",
      "<class 'numpy.ndarray'>\n"
     ]
    }
   ],
   "source": [
    "#Adjecency matrix representation of Graph(V,E) using numpy 2D array\n",
    "\n",
    "# method 1 using numpy.array with list comprehension :\n",
    "\n",
    "import numpy as np\n",
    "V = [0,1,2,3,4]\n",
    "E = [(0, 1), (0, 2), (1, 3), (1, 4), (2, 4), (2, 3), (3, 4)]\n",
    "\n",
    "def aMat2(V,E):\n",
    "    (rows,cols)=(len(V),len(V))\n",
    "\n",
    "    mat=np.array([[0 for j in range(cols)] for i in range(rows)]) # Notice how zero matrix is initialized in single line using list comprehension.\n",
    "\n",
    "    #Now populating the matrix with edges\n",
    "\n",
    "    for i,j in E:\n",
    "        mat[i][j]=1\n",
    "    \n",
    "    return mat\n",
    "\n",
    "G=aMat2(V,E)\n",
    "print(G)\n",
    "print(type(G))"
   ]
  },
  {
   "cell_type": "code",
   "execution_count": 23,
   "metadata": {},
   "outputs": [
    {
     "name": "stdout",
     "output_type": "stream",
     "text": [
      "[[0 1 1 0 0]\n",
      " [0 0 0 1 1]\n",
      " [0 0 0 1 1]\n",
      " [0 0 0 0 1]\n",
      " [0 0 0 0 0]]\n",
      "<class 'numpy.ndarray'>\n"
     ]
    }
   ],
   "source": [
    "#method -2 using numpy.zeros \n",
    "# numpy already imported\n",
    "V = [0,1,2,3,4]\n",
    "E = [(0, 1), (0, 2), (1, 3), (1, 4), (2, 4), (2, 3), (3, 4)]\n",
    "\n",
    "def aMat3(V,E):\n",
    "    (rows,cols)=(len(V),len(V))\n",
    "\n",
    "    # initializing zero matrix\n",
    "    mat=np.zeros((rows,cols),dtype=int) # Notice we didnt even used the list comprehension here.\n",
    "    # if we skip the 'dtype=int' part we get the floating point zeros like \"0.\", try to remove it and see\n",
    "     \n",
    "    #Now populating the matrix with edges\n",
    "\n",
    "    for (i,j) in E:\n",
    "        mat[i][j]=1\n",
    "    \n",
    "    return mat\n",
    "\n",
    "G=aMat3(V,E)\n",
    "print(G)\n",
    "print(type(G))"
   ]
  },
  {
   "cell_type": "markdown",
   "metadata": {},
   "source": [
    "## Adjecency list representaion \n",
    "\n",
    "Sometime if a Graph have more vertices and comparitively lesser edges then the Adjecency Matrix representaion is not the best way to represent the Graph as it contains lots or unnecesary 0s which we are not much interested in.(There are other reasons also)\n",
    "\n",
    "In such case we should try to represent the graphs using **adjecency list**.\n",
    "\n",
    "Adjecency list contains list of the neighbours (to which a given vertex is directly connected by an edge) for every vertex. This can be implemented in python two ways -\n",
    "\n",
    "- using 'list' of 'lists'.\n",
    "- using Python Dictionaries. (prefered)"
   ]
  },
  {
   "cell_type": "markdown",
   "metadata": {},
   "source": [
    "### Creating Adjecency List Using list of list\n",
    "\n",
    "We can make this list of list using **python lists** or **numpy arrays**.\n",
    "\n",
    "Lets do it with Normal python list:\n"
   ]
  },
  {
   "cell_type": "code",
   "execution_count": 29,
   "metadata": {},
   "outputs": [
    {
     "name": "stdout",
     "output_type": "stream",
     "text": [
      "[[1, 2], [3, 4], [4, 3], [4], []]\n",
      "<class 'list'>\n"
     ]
    }
   ],
   "source": [
    "# Adjecency List using python List.\n",
    "V = [0,1,2,3,4]\n",
    "E = [(0, 1), (0, 2), (1, 3), (1, 4), (2, 4), (2, 3), (3, 4)]\n",
    "\n",
    "def adjList1(V,E):\n",
    "    adjList=[[j for (k,j) in E if k==i ] for i in V]\n",
    "    return adjList\n",
    "\n",
    "G=adjList1(V,E)\n",
    "print(G)\n",
    "print(type(G))"
   ]
  },
  {
   "cell_type": "markdown",
   "metadata": {},
   "source": [
    "Here the *index* of outer array represent the *vertex* and values coresponding to it represents the list of its neighbouring vertex."
   ]
  },
  {
   "cell_type": "code",
   "execution_count": 30,
   "metadata": {},
   "outputs": [
    {
     "ename": "ValueError",
     "evalue": "setting an array element with a sequence. The requested array has an inhomogeneous shape after 1 dimensions. The detected shape was (5,) + inhomogeneous part.",
     "output_type": "error",
     "traceback": [
      "\u001b[1;31m---------------------------------------------------------------------------\u001b[0m",
      "\u001b[1;31mValueError\u001b[0m                                Traceback (most recent call last)",
      "Cell \u001b[1;32mIn[30], line 13\u001b[0m\n\u001b[0;32m     10\u001b[0m     adjList\u001b[38;5;241m=\u001b[39mnp\u001b[38;5;241m.\u001b[39marray([[j \u001b[38;5;28;01mfor\u001b[39;00m (k,j) \u001b[38;5;129;01min\u001b[39;00m E \u001b[38;5;28;01mif\u001b[39;00m k\u001b[38;5;241m==\u001b[39mi] \u001b[38;5;28;01mfor\u001b[39;00m i \u001b[38;5;129;01min\u001b[39;00m V])\n\u001b[0;32m     11\u001b[0m     \u001b[38;5;28;01mreturn\u001b[39;00m adjList\n\u001b[1;32m---> 13\u001b[0m G\u001b[38;5;241m=\u001b[39m\u001b[43madjList2\u001b[49m\u001b[43m(\u001b[49m\u001b[43mV\u001b[49m\u001b[43m,\u001b[49m\u001b[43mE\u001b[49m\u001b[43m)\u001b[49m\n\u001b[0;32m     14\u001b[0m \u001b[38;5;28mprint\u001b[39m(G)\n\u001b[0;32m     15\u001b[0m \u001b[38;5;28mprint\u001b[39m(\u001b[38;5;28mtype\u001b[39m(G))\n",
      "Cell \u001b[1;32mIn[30], line 10\u001b[0m, in \u001b[0;36madjList2\u001b[1;34m(V, E)\u001b[0m\n\u001b[0;32m      7\u001b[0m \u001b[38;5;28;01mdef\u001b[39;00m \u001b[38;5;21madjList2\u001b[39m(V,E):\n\u001b[0;32m      8\u001b[0m     (rows,cols)\u001b[38;5;241m=\u001b[39m(\u001b[38;5;28mlen\u001b[39m(V),\u001b[38;5;28mlen\u001b[39m(E))\n\u001b[1;32m---> 10\u001b[0m     adjList\u001b[38;5;241m=\u001b[39m\u001b[43mnp\u001b[49m\u001b[38;5;241;43m.\u001b[39;49m\u001b[43marray\u001b[49m\u001b[43m(\u001b[49m\u001b[43m[\u001b[49m\u001b[43m[\u001b[49m\u001b[43mj\u001b[49m\u001b[43m \u001b[49m\u001b[38;5;28;43;01mfor\u001b[39;49;00m\u001b[43m \u001b[49m\u001b[43m(\u001b[49m\u001b[43mk\u001b[49m\u001b[43m,\u001b[49m\u001b[43mj\u001b[49m\u001b[43m)\u001b[49m\u001b[43m \u001b[49m\u001b[38;5;129;43;01min\u001b[39;49;00m\u001b[43m \u001b[49m\u001b[43mE\u001b[49m\u001b[43m \u001b[49m\u001b[38;5;28;43;01mif\u001b[39;49;00m\u001b[43m \u001b[49m\u001b[43mk\u001b[49m\u001b[38;5;241;43m==\u001b[39;49m\u001b[43mi\u001b[49m\u001b[43m]\u001b[49m\u001b[43m \u001b[49m\u001b[38;5;28;43;01mfor\u001b[39;49;00m\u001b[43m \u001b[49m\u001b[43mi\u001b[49m\u001b[43m \u001b[49m\u001b[38;5;129;43;01min\u001b[39;49;00m\u001b[43m \u001b[49m\u001b[43mV\u001b[49m\u001b[43m]\u001b[49m\u001b[43m)\u001b[49m\n\u001b[0;32m     11\u001b[0m     \u001b[38;5;28;01mreturn\u001b[39;00m adjList\n",
      "\u001b[1;31mValueError\u001b[0m: setting an array element with a sequence. The requested array has an inhomogeneous shape after 1 dimensions. The detected shape was (5,) + inhomogeneous part."
     ]
    }
   ],
   "source": [
    "# Adjecency list using Numpy arrays\n",
    "# numpy already imported\n",
    "\n",
    "V = [0,1,2,3,4]\n",
    "E = [(0, 1), (0, 2), (1, 3), (1, 4), (2, 4), (2, 3), (3, 4)]\n",
    "\n",
    "def adjList2(V,E):\n",
    "    (rows,cols)=(len(V),len(E))\n",
    "\n",
    "    adjList=np.array([[j for (k,j) in E if k==i] for i in V])\n",
    "    return adjList\n",
    "\n",
    "G=adjList2(V,E)\n",
    "print(G)\n",
    "print(type(G))"
   ]
  },
  {
   "cell_type": "markdown",
   "metadata": {},
   "source": [
    "Notice that above code is giving an Value error. It complains that the ***numpy array cannot store the arrays of different list sizes***. Numpy arrays can hold the lists if they were of *equal sizes*.\n",
    "\n",
    "But one can override and run off from this error if we convert the unequal sizes arrays to \"`object`\" datatype as follows."
   ]
  },
  {
   "cell_type": "code",
   "execution_count": 31,
   "metadata": {},
   "outputs": [
    {
     "name": "stdout",
     "output_type": "stream",
     "text": [
      "[list([1, 2]) list([3, 4]) list([4, 3]) list([4]) list([])]\n",
      "<class 'numpy.ndarray'>\n"
     ]
    }
   ],
   "source": [
    "V = [0,1,2,3,4]\n",
    "E = [(0, 1), (0, 2), (1, 3), (1, 4), (2, 4), (2, 3), (3, 4)]\n",
    "\n",
    "def adjList2(V,E):\n",
    "    (rows,cols)=(len(V),len(E))\n",
    "\n",
    "    adjList=np.array([[j for (k,j) in E if k==i] for i in V], dtype=object)\n",
    "    return adjList\n",
    "\n",
    "G=adjList2(V,E)\n",
    "print(G)\n",
    "print(type(G))"
   ]
  },
  {
   "cell_type": "markdown",
   "metadata": {},
   "source": [
    "Look now the error has gone. We still have an numpy array , but its an array of '`objects`' not of numbers. \n",
    "\n",
    "This is generally not preffered.\n",
    "\n",
    "**[Windows copilot]**\n",
    "\n",
    "Using `dtype=object` in NumPy arrays is not generally preferred for numerical computations because it can lead to performance issues and unexpected behavior, especially with operations that are optimized for numerical data types like float or int. Arrays with dtype=object are essentially arrays of pointers to Python objects, which means they don’t benefit from NumPy’s optimizations for numerical operations.\n",
    "\n",
    "However, `dtype=object` can be useful when you need to store a collection of arbitrary Python objects, such as a mix of different data types that can’t be accommodated by a single numerical dtype. It allows for flexibility, but with the trade-off of performance and some functionality that is available with homogeneous numerical arrays."
   ]
  },
  {
   "cell_type": "markdown",
   "metadata": {},
   "source": [
    "### Creating Adjecency List Using Python Dictionaries.\n",
    "\n",
    "It is the most prefered way to represent graphs in terms of Adjecency list."
   ]
  },
  {
   "cell_type": "code",
   "execution_count": 33,
   "metadata": {},
   "outputs": [
    {
     "ename": "AttributeError",
     "evalue": "'numpy.ndarray' object has no attribute 'append'",
     "output_type": "error",
     "traceback": [
      "\u001b[1;31m---------------------------------------------------------------------------\u001b[0m",
      "\u001b[1;31mAttributeError\u001b[0m                            Traceback (most recent call last)",
      "Cell \u001b[1;32mIn[33], line 18\u001b[0m\n\u001b[0;32m     14\u001b[0m         adjList[i]\u001b[38;5;241m.\u001b[39mappend(j)\n\u001b[0;32m     16\u001b[0m     \u001b[38;5;28;01mreturn\u001b[39;00m adjList\n\u001b[1;32m---> 18\u001b[0m G\u001b[38;5;241m=\u001b[39m\u001b[43madjList3\u001b[49m\u001b[43m(\u001b[49m\u001b[43mV\u001b[49m\u001b[43m,\u001b[49m\u001b[43mE\u001b[49m\u001b[43m)\u001b[49m\n\u001b[0;32m     19\u001b[0m \u001b[38;5;28mprint\u001b[39m(G)\n\u001b[0;32m     20\u001b[0m \u001b[38;5;28mprint\u001b[39m(\u001b[38;5;28mtype\u001b[39m(G))\n",
      "Cell \u001b[1;32mIn[33], line 14\u001b[0m, in \u001b[0;36madjList3\u001b[1;34m(V, E)\u001b[0m\n\u001b[0;32m     11\u001b[0m \u001b[38;5;66;03m# populating vertices with neigbouring vertices\u001b[39;00m\n\u001b[0;32m     13\u001b[0m \u001b[38;5;28;01mfor\u001b[39;00m (i,j) \u001b[38;5;129;01min\u001b[39;00m E:\n\u001b[1;32m---> 14\u001b[0m     \u001b[43madjList\u001b[49m\u001b[43m[\u001b[49m\u001b[43mi\u001b[49m\u001b[43m]\u001b[49m\u001b[38;5;241;43m.\u001b[39;49m\u001b[43mappend\u001b[49m(j)\n\u001b[0;32m     16\u001b[0m \u001b[38;5;28;01mreturn\u001b[39;00m adjList\n",
      "\u001b[1;31mAttributeError\u001b[0m: 'numpy.ndarray' object has no attribute 'append'"
     ]
    }
   ],
   "source": [
    "V = [0,1,2,3,4]\n",
    "E = [(0, 1), (0, 2), (1, 3), (1, 4), (2, 4), (2, 3), (3, 4)]\n",
    "\n",
    "def adjList3(V,E):\n",
    "    (rows,cols)=(len(V),len(V))\n",
    "    adjList={}\n",
    "    # initializing the vertices inside the dictionary\n",
    "    for v in V:\n",
    "        adjList[v]=np.array([])\n",
    "        \n",
    "    # populating vertices with neigbouring vertices\n",
    "        \n",
    "    for (i,j) in E:\n",
    "        adjList[i].append(j)\n",
    "    \n",
    "    return adjList\n",
    "\n",
    "G=adjList3(V,E)\n",
    "print(G)\n",
    "print(type(G))\n",
    "\n",
    "\n",
    "\n"
   ]
  },
  {
   "cell_type": "markdown",
   "metadata": {},
   "source": [
    "Notice The error AttributeError: 'numpy.ndarray' object has no attribute 'append' occurs because NumPy arrays do not have an append method. The append method is a feature of Python’s list data structure, not NumPy arrays. When you attempt to use append on a NumPy array, Python cannot find this method, hence the error.\n",
    "\n",
    "To fix this, you can either use a Python list instead of a NumPy array within your dictionary or use the numpy.append() function, which returns a new array with the appended value. However, remember that numpy.append() does not modify the array in place; it creates a new array each time you use it.\n",
    "\n",
    "Sp lets use the python list to make above code run."
   ]
  },
  {
   "cell_type": "code",
   "execution_count": 34,
   "metadata": {},
   "outputs": [
    {
     "name": "stdout",
     "output_type": "stream",
     "text": [
      "{0: [1, 2], 1: [3, 4], 2: [4, 3], 3: [4], 4: []}\n",
      "<class 'dict'>\n"
     ]
    }
   ],
   "source": [
    "V = [0,1,2,3,4]\n",
    "E = [(0, 1), (0, 2), (1, 3), (1, 4), (2, 4), (2, 3), (3, 4)]\n",
    "\n",
    "def adjList3(V,E):\n",
    "    (rows,cols)=(len(V),len(V))\n",
    "    adjList={}\n",
    "    # initializing the vertices inside the dictionary\n",
    "    for v in V:\n",
    "        adjList[v]=[]\n",
    "        \n",
    "    # populating vertices with neigbouring vertices\n",
    "        \n",
    "    for (i,j) in E:\n",
    "        adjList[i].append(j)\n",
    "\n",
    "    # sort the neighbourlist of each vertex. (it is preferred and recomended)\n",
    "    for k in V:\n",
    "        adjList[k].sort()  # sort() method do the 'in place' sorting and do a permanent side effect on the orignal list.\n",
    "    \n",
    "    return adjList\n",
    "\n",
    "G=adjList3(V,E)\n",
    "print(G)\n",
    "print(type(G))"
   ]
  }
 ],
 "metadata": {
  "kernelspec": {
   "display_name": "Python 3",
   "language": "python",
   "name": "python3"
  },
  "language_info": {
   "codemirror_mode": {
    "name": "ipython",
    "version": 3
   },
   "file_extension": ".py",
   "mimetype": "text/x-python",
   "name": "python",
   "nbconvert_exporter": "python",
   "pygments_lexer": "ipython3",
   "version": "3.11.0"
  }
 },
 "nbformat": 4,
 "nbformat_minor": 2
}
