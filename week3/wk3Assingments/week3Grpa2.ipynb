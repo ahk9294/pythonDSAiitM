{
 "cells": [
  {
   "cell_type": "markdown",
   "metadata": {},
   "source": [
    "# Week3 Grpa\n",
    "\n",
    "<hr>\n",
    "\n",
    "## Postfix Expression\n",
    "\n",
    "<hr>\n",
    "\n",
    "An arithmetic expression can be written in 'postfix form' by writing the operands first, followed by the operators.\n",
    "\n",
    " For example, \n",
    "\n",
    "- `A + B` is written as `A B +`\n",
    "\n",
    "- the expression `(A + B) * C` can be written as `AB + C *` in postfix form.\n",
    "\n",
    "To convert a normal expression into postfix expression, we can use the following rules:\n",
    "\n",
    "- Scan the expression from left to right and push any operand into a stack.\n",
    "\n",
    "    - If an operator is encountered, pop two operands from the stack and append them to the output, followed by the operator.\n",
    "\n",
    "    - If a left parenthesis is encountered, push it into the stack.\n",
    "\n",
    "    - If a right parenthesis is encountered, pop and append all the operators from the stack until a left parenthesis is found. Discard both parentheses.\n",
    "\n",
    "    - Repeat the above steps until the end of the expression is reached.\n",
    "\n",
    "\n",
    "Write a function `EvaluateExpression(exp)` that accepts an expression in string format and returns the evaluated value.\n"
   ]
  },
  {
   "cell_type": "markdown",
   "metadata": {},
   "source": [
    "## Answers\n",
    "\n",
    "<hr>\n",
    "\n",
    "I was successfully able to solve it."
   ]
  },
  {
   "cell_type": "code",
   "execution_count": 4,
   "metadata": {},
   "outputs": [
    {
     "data": {
      "text/plain": [
       "-4.0"
      ]
     },
     "execution_count": 4,
     "metadata": {},
     "output_type": "execute_result"
    }
   ],
   "source": [
    "def  EvaluateExpression(exp):\n",
    "    expList=exp.split(\" \")\n",
    "    operators=['+', '-', '*', '/' , '**']\n",
    "    stack=[]\n",
    "    for e in expList:\n",
    "        if e in operators:\n",
    "            b=stack.pop()\n",
    "            a=stack.pop()\n",
    "            stack.append(eval(f\"{a}{e}{b}\"))\n",
    "        else: \n",
    "            stack.append(e)\n",
    "    \n",
    "    return float(stack[0])\n",
    "\n",
    "EvaluateExpression(\"2 3 1 * + 9 -\")"
   ]
  },
  {
   "cell_type": "markdown",
   "metadata": {},
   "source": [
    "### Explaination by Windows copilot\n",
    "\n",
    "**For example, to convert the expression A * (B + C) / D into postfix form, we can follow these steps:**\n",
    "\n",
    "- Scan A and push it into the stack. Stack: [A]\n",
    "- Scan * and push it into the stack. Stack: [A, *]\n",
    "- Scan ( and push it into the stack. Stack: [A, *, (]\n",
    "- Scan B and push it into the stack. Stack: [A, *, (, B]\n",
    "- Scan + and push it into the stack. Stack: [A, *, (, B, +]\n",
    "- Scan C and push it into the stack. Stack: [A, *, (, B, +, C]\n",
    "- Scan ) and pop and append all the operators from the stack until a left parenthesis is found. Stack: [A, *] Output: BC +\n",
    "- Discard both parentheses. Stack: [A, *] Output: BC +\n",
    "- Scan / and push it into the stack. Stack: [A, *, /]\n",
    "- Scan D and push it into the stack. Stack: [A, *, /, D]\n",
    "- Reach the end of the expression and pop and append all the remaining operators from the stack. Stack: [] Output: BC + A * D /\n",
    "- The final postfix expression is BC + A * D /\n",
    "\n",
    "**To evaluate a postfix expression, we can use the following algorithm:**\n",
    "\n",
    "- Create an empty stack.\n",
    "- Scan each element of the expression from left to right.\n",
    "- If the element is an operand, push it into the stack.\n",
    "- If the element is an operator, pop two operands from the stack and apply the operator on them. Push the result back into the stack.\n",
    "- Repeat the above steps until the end of the expression is reached.\n",
    "- The final result will be the only element left in the stack.\n",
    "\n",
    "**For example, to evaluate the postfix expression BC + A * D /, we can follow these steps:**\n",
    "\n",
    "- Create an empty stack. Stack: []\n",
    "- Scan B and push it into the stack. Stack: [B]\n",
    "- Scan C and push it into the stack. Stack: [B, C]\n",
    "- Scan + and pop two operands from the stack and apply the operator on them. Stack: [B + C]\n",
    "- Push the result back into the stack. Stack: [B + C]\n",
    "- Scan A and push it into the stack. Stack: [B + C, A]\n",
    "- Scan * and pop two operands from the stack and apply the operator on them. Stack: [(B + C) * A]\n",
    "- Push the result back into the stack. Stack: [(B + C) * A]\n",
    "- Scan D and push it into the stack. Stack: [(B + C) * A, D]\n",
    "- Scan / and pop two operands from the stack and apply the operator on them. Stack: [((B + C) * A) / D]\n",
    "- Push the result back into the stack. Stack: [((B + C) * A) / D]\n",
    "- Reach the end of the expression and the final result will be the only element left in the stack. Result: ((B + C) * A) / D\n"
   ]
  },
  {
   "cell_type": "code",
   "execution_count": null,
   "metadata": {},
   "outputs": [],
   "source": []
  }
 ],
 "metadata": {
  "kernelspec": {
   "display_name": "Python 3",
   "language": "python",
   "name": "python3"
  },
  "language_info": {
   "codemirror_mode": {
    "name": "ipython",
    "version": 3
   },
   "file_extension": ".py",
   "mimetype": "text/x-python",
   "name": "python",
   "nbconvert_exporter": "python",
   "pygments_lexer": "ipython3",
   "version": "3.11.0"
  }
 },
 "nbformat": 4,
 "nbformat_minor": 2
}
