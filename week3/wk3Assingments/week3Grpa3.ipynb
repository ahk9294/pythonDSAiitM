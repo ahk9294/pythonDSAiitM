{
 "cells": [
  {
   "cell_type": "markdown",
   "metadata": {},
   "source": [
    "# Week3 Grpa3 \n",
    "\n",
    "## Reverse the linked list\n",
    "\n",
    "<hr>\n",
    "\n",
    "Complete the function `reverse(root)` that will reverse the linked list with the first node passed as an argument, and return the first node of the reversed list. Each node in the linked list is an object of class `Node`. Class `Node` members are described below.\n",
    "\n",
    "Class Node:\n",
    "- value - stored value.\n",
    "- next - points to next node.- isEmpty() - returns True if linked list is empty, False otherwise.\n",
    "\n",
    "**Note**- The list is to be reversed only by changing `next` pointer of existing nodes. No values to be changed and no new nodes to be created.\n",
    "\n"
   ]
  },
  {
   "cell_type": "markdown",
   "metadata": {},
   "source": [
    "## Answers \n",
    "\n",
    "### My try :"
   ]
  },
  {
   "cell_type": "code",
   "execution_count": 2,
   "metadata": {},
   "outputs": [],
   "source": [
    "class Node:\n",
    "    \n",
    "    def __init__(self,v= None):\n",
    "        self.value=v\n",
    "        self.next=None\n",
    "        return\n",
    "    def isEmpty(self):\n",
    "        if(self.value==None):\n",
    "            return True\n",
    "        else:\n",
    "            return False\n",
    "    \n",
    "def reverse(root):\n",
    "    if(root.isEmpty()): return root\n",
    "    if(root.next==None): return root\n",
    "\n",
    "    firstNode=root\n",
    "    secondNode=firstNode.next\n",
    "    thirdNode=secondNode.next\n",
    "\n",
    "    if(thirdNode.next!=None):\n",
    "        def updater(sNode):\n",
    "            nextNode=sNode.next.next\n",
    "            midNode=sNode.next\n",
    "            prevNode=sNode\n",
    "            if (nextNode.next==None):\n",
    "                nextNode.next=prevNode.next\n",
    "                lastNode=midNode.next\n",
    "                midNode.next=None\n",
    "                return lastNode\n",
    "            else\n",
    "                updater(nextNode.next)\n",
    "        updater\n",
    "\n",
    "    else :\n",
    "        pass           \n"
   ]
  },
  {
   "cell_type": "markdown",
   "metadata": {},
   "source": [
    "### Chatgpt solution\n",
    "\n",
    "To reverse a linked list by changing only the next pointers of existing nodes, you can iterate through the list, reversing the pointers as you go along. Here's how you can implement the reverse function:"
   ]
  },
  {
   "cell_type": "code",
   "execution_count": 5,
   "metadata": {},
   "outputs": [],
   "source": [
    "class Node:\n",
    "    def __init__(self, value):\n",
    "        self.value = value\n",
    "        self.next = None\n",
    "\n",
    "    def isEmpty(self):\n",
    "        return self.value is None\n",
    "\n",
    "\n",
    "def reverse1(root):\n",
    "    # If the linked list is empty or has only one node, return root\n",
    "    if root.isEmpty() or root.next==None:\n",
    "        return root\n",
    "    \n",
    "    prev_node = None\n",
    "    current_node = root\n",
    "    next_node = root.next\n",
    "    \n",
    "    # Iterate through the list, reversing pointers\n",
    "    while next_node is not None:\n",
    "        current_node.next = prev_node\n",
    "        prev_node = current_node\n",
    "        current_node = next_node\n",
    "        next_node = next_node.next\n",
    "    \n",
    "    # Reverse the pointer for the last node\n",
    "    current_node.next = prev_node\n",
    "    \n",
    "    # Return the new head of the reversed list\n",
    "    return current_node"
   ]
  },
  {
   "cell_type": "markdown",
   "metadata": {},
   "source": [
    "This function iterates through the linked list, reversing the next pointers of each node. It returns the new head of the reversed list.\n",
    "\n",
    "Here's how you can use it:"
   ]
  },
  {
   "cell_type": "markdown",
   "metadata": {},
   "source": [
    "# Example usage:\n",
    "# Create the linked list\n",
    "node1 = Node(1)\n",
    "node2 = Node(2)\n",
    "node3 = Node(3)\n",
    "\n",
    "node1.next = node2\n",
    "node2.next = node3\n",
    "\n",
    "# Reverse the linked list\n",
    "reversed_root = reverse1(node1)\n",
    "\n",
    "# Print the reversed linked list\n",
    "current_node = reversed_root\n",
    "while current_node is not None:\n",
    "    print(current_node.value)\n",
    "    current_node = current_node.next\n"
   ]
  }
 ],
 "metadata": {
  "kernelspec": {
   "display_name": "Python 3",
   "language": "python",
   "name": "python3"
  },
  "language_info": {
   "codemirror_mode": {
    "name": "ipython",
    "version": 3
   },
   "file_extension": ".py",
   "mimetype": "text/x-python",
   "name": "python",
   "nbconvert_exporter": "python",
   "pygments_lexer": "ipython3",
   "version": "3.11.0"
  }
 },
 "nbformat": 4,
 "nbformat_minor": 2
}
