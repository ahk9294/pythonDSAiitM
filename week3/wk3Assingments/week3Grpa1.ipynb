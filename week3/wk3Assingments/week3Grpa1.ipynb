{
 "cells": [
  {
   "cell_type": "markdown",
   "metadata": {},
   "source": [
    "# Week3 grpa1\n",
    "<hr>\n",
    "\n",
    "A restaurant always prepares dishes with the 'most orders' before others with a lesser number of orders. Each dish in the restaurant menu has a unique integer ID. The restaurant receives `n` orders in a particular time period. The task is to find out the order of dish IDs according to which the restaurant will prepare them. \n",
    "\n",
    "Assume that restaurant has the following unique dish IDs in its menu:\n",
    "\n",
    " [1001, 1002, 1003, 1004, 1005, 1006, 1007, 1008, 1009].\n",
    "\n",
    " Write a function in python `DishPrepareOrder(order_list)` that accepts `order_list` in the form of a list of dish IDs and returns a list of dish IDs in the order in which the restaurant will prepare them. If two or more dishes have the same number of orders, then the dish which has a smaller ID value will be prepared first.\n",
    "\n",
    "\n",
    "Example: \n",
    "\n",
    "If the orders in certain time are ares follows:\n",
    "\n",
    "[1004,1003,1004,1003,1004,1005,1003,1004,1003,1002,1005,1002,1002,1001,1002,1002,1002]\n",
    "\n",
    "Output should be :\n",
    "\n",
    "[1002,1003,1004,1OO5,lOOl]"
   ]
  },
  {
   "cell_type": "markdown",
   "metadata": {},
   "source": [
    "## Answers\n",
    "<hr>\n",
    "\n",
    "### by me "
   ]
  },
  {
   "cell_type": "code",
   "execution_count": null,
   "metadata": {},
   "outputs": [],
   "source": [
    "def DishPrepareOrder(order_list):\n",
    "    dish_count={}\n",
    "    for e in order_list:\n",
    "        if e in dish_count.keys(): \n",
    "            dish_count[e]=dish_count[e]+1\n",
    "        else:\n",
    "            dish_count[e]=1\n",
    "    \n",
    "    listByNumberOfOrders=[]\n",
    "    for e in dish_count.keys():\n",
    "        if()\n",
    "\n",
    "\n",
    "\n"
   ]
  },
  {
   "cell_type": "markdown",
   "metadata": {},
   "source": [
    "## by windows copilot"
   ]
  },
  {
   "cell_type": "code",
   "execution_count": 1,
   "metadata": {},
   "outputs": [
    {
     "name": "stdout",
     "output_type": "stream",
     "text": [
      "[1002, 1003, 1004, 1005, 1001]\n"
     ]
    }
   ],
   "source": [
    "# Define a function to sort the dish IDs by their frequency and value\n",
    "def DishPrepareOrder(order_list):\n",
    "  # Create a dictionary to store the frequency of each dish ID\n",
    "  freq = {}\n",
    "  for dish in order_list:\n",
    "    if dish in freq:\n",
    "      freq[dish] += 1\n",
    "    else:\n",
    "      freq[dish] = 1\n",
    "  \n",
    "  # Create a list of tuples with dish ID and frequency\n",
    "  freq_list = list(freq.items())\n",
    "\n",
    "  # Sort the list by frequency in descending order and then by dish ID in ascending order\n",
    "  freq_list.sort(key=lambda x: (-x[1], x[0]))\n",
    "\n",
    "  # Extract the dish IDs from the sorted list\n",
    "  result = [x[0] for x in freq_list]\n",
    "\n",
    "  # Return the result\n",
    "  return result\n",
    "\n",
    "# Test the function with the given example\n",
    "order_list = [1004,1003,1004,1003,1004,1005,1003,1004,1003,1002,1005,1002,1002,1001,1002,1002,1002]\n",
    "print(DishPrepareOrder(order_list))\n"
   ]
  },
  {
   "cell_type": "markdown",
   "metadata": {},
   "source": [
    "this solution worked with all private test passed."
   ]
  }
 ],
 "metadata": {
  "kernelspec": {
   "display_name": "Python 3",
   "language": "python",
   "name": "python3"
  },
  "language_info": {
   "codemirror_mode": {
    "name": "ipython",
    "version": 3
   },
   "file_extension": ".py",
   "mimetype": "text/x-python",
   "name": "python",
   "nbconvert_exporter": "python",
   "pygments_lexer": "ipython3",
   "version": "3.11.0"
  }
 },
 "nbformat": 4,
 "nbformat_minor": 2
}
